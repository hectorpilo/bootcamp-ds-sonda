{
  "nbformat": 4,
  "nbformat_minor": 0,
  "metadata": {
    "colab": {
      "provenance": [],
      "authorship_tag": "ABX9TyPirh4cOdNknx7vejH/V3Gu",
      "include_colab_link": true
    },
    "kernelspec": {
      "name": "python3",
      "display_name": "Python 3"
    },
    "language_info": {
      "name": "python"
    }
  },
  "cells": [
    {
      "cell_type": "markdown",
      "metadata": {
        "id": "view-in-github",
        "colab_type": "text"
      },
      "source": [
        "<a href=\"https://colab.research.google.com/github/hectorpilo/bootcamp-ds-sonda/blob/main/Probando_Tabulaciones_de_textos%2C_columnas_y_filas.ipynb\" target=\"_parent\"><img src=\"https://colab.research.google.com/assets/colab-badge.svg\" alt=\"Open In Colab\"/></a>"
      ]
    },
    {
      "cell_type": "markdown",
      "source": [
        "# **Aqui iré probando, diferentes formas de como mostrar el texto en python.**"
      ],
      "metadata": {
        "id": "q8GvhhvXUBTG"
      }
    },
    {
      "cell_type": "markdown",
      "source": [
        "Saltos de Linea, jojo"
      ],
      "metadata": {
        "id": "g-3UJ_AhVokP"
      }
    },
    {
      "cell_type": "code",
      "source": [
        "#para los saltos de lineas se usa el \\n\n",
        "print('hola, aqui arriba''\\nNo aqui abajo mejor jajaja''\\nO aqui abajo''\\n\\n\\nO bien abajo?')"
      ],
      "metadata": {
        "colab": {
          "base_uri": "https://localhost:8080/"
        },
        "id": "VNvaA2zmVtkf",
        "outputId": "1bfe915d-acfa-40ce-804e-975ecc0b5b17"
      },
      "execution_count": 3,
      "outputs": [
        {
          "output_type": "stream",
          "name": "stdout",
          "text": [
            "hola, aqui arriba\n",
            "No aqui abajo mejor jajaja\n",
            "O aqui abajo\n",
            "\n",
            "\n",
            "O bien abajo?\n"
          ]
        }
      ]
    },
    {
      "cell_type": "markdown",
      "source": [
        "TabulazaoU 🦾 para la tabulación"
      ],
      "metadata": {
        "id": "0hd3kG9LWM53"
      }
    },
    {
      "cell_type": "code",
      "source": [
        "#Para las tabulaciones se usa el \\t, veamos\n",
        "print('hola\\thola2\\thola3\\thola4')\n",
        "print('precio\\t200\\t400\\t500')\n",
        "print('cantidad\\t300\\t345\\t567')"
      ],
      "metadata": {
        "colab": {
          "base_uri": "https://localhost:8080/"
        },
        "id": "ZqGD5WV5Wz5e",
        "outputId": "c3baa352-274d-492a-9abd-c0a4468fe88a"
      },
      "execution_count": 5,
      "outputs": [
        {
          "output_type": "stream",
          "name": "stdout",
          "text": [
            "hola\thola2\thola3\thola4\n",
            "precio\t200\t400\t500\n",
            "cantidad\t300\t345\t567\n"
          ]
        }
      ]
    },
    {
      "cell_type": "markdown",
      "source": [
        "F STRINGS, amado ❤\n",
        "\n",
        ":<10 significa: alinear a la izquierda y usar 10 espacios de ancho.\n",
        "Puedes usar :>10 si quieres alinear a la derecha (útil para números)."
      ],
      "metadata": {
        "id": "sOV8JxO0a88L"
      }
    },
    {
      "cell_type": "code",
      "source": [
        "#como arriba quedó la cagá, usaré la vieja confiable..el f-string.\n",
        "print(f'{\"hola\":<10}{\"hola2\":<10}{\"hola3\":<10}{\"hola4\":<10}')\n",
        "print(f'{\"precio\":<10}{\"200\":<10}{\"400\":<10}{\"500\":<10}')\n",
        "print(f'{\"cantidad\":<10}{\"300\":<10}{\"345\":<10}{\"567\":<10}')\n",
        "print('\\n')\n",
        "print(f'{\"Producto\":<10}{\"Precio\":>10}{\"Stock\":>10}')\n",
        "print(f'{\"Pan\":<10}{500:>10}{30:>10}')\n",
        "print(f'{\"Leche\":<10}{1200:>10}{15:>10}')"
      ],
      "metadata": {
        "colab": {
          "base_uri": "https://localhost:8080/"
        },
        "id": "UR3yzZ3DbGsr",
        "outputId": "df0b21ab-9d2d-45a2-a483-3b8ae9e83b55"
      },
      "execution_count": 9,
      "outputs": [
        {
          "output_type": "stream",
          "name": "stdout",
          "text": [
            "hola      hola2     hola3     hola4     \n",
            "precio    200       400       500       \n",
            "cantidad  300       345       567       \n",
            "\n",
            "\n",
            "Producto      Precio     Stock\n",
            "Pan              500        30\n",
            "Leche           1200        15\n"
          ]
        }
      ]
    },
    {
      "cell_type": "markdown",
      "source": [
        "Separadores visuales (*, -, = repetidos)"
      ],
      "metadata": {
        "id": "Whqp3Gg0cP7b"
      }
    },
    {
      "cell_type": "code",
      "source": [
        "print(\"=\" * 30)\n",
        "print(\"=== Registro de Productos ===\")\n",
        "print(\"=\" * 30)"
      ],
      "metadata": {
        "colab": {
          "base_uri": "https://localhost:8080/"
        },
        "id": "D5K0nkK1cf_6",
        "outputId": "da67c6f8-474a-4df2-9842-57d23577f710"
      },
      "execution_count": 10,
      "outputs": [
        {
          "output_type": "stream",
          "name": "stdout",
          "text": [
            "==============================\n",
            "=== Registro de Productos ===\n",
            "==============================\n"
          ]
        }
      ]
    },
    {
      "cell_type": "markdown",
      "source": [
        "Cadenas multilínea (\"\"\" \"\"\")"
      ],
      "metadata": {
        "id": "HCOirWIqcpLy"
      }
    },
    {
      "cell_type": "code",
      "source": [
        "print(\"\"\"\n",
        "=======================\n",
        "     MENÚ PRINCIPAL\n",
        "=======================\n",
        "1. Agregar producto\n",
        "2. Ver productos\n",
        "3. Salir\n",
        "\"\"\")\n"
      ],
      "metadata": {
        "colab": {
          "base_uri": "https://localhost:8080/"
        },
        "id": "FQybbkTtcrwW",
        "outputId": "83393e12-3a96-4302-d105-838f76345d48"
      },
      "execution_count": 11,
      "outputs": [
        {
          "output_type": "stream",
          "name": "stdout",
          "text": [
            "\n",
            "=======================\n",
            "     MENÚ PRINCIPAL\n",
            "=======================\n",
            "1. Agregar producto\n",
            "2. Ver productos\n",
            "3. Salir\n",
            "\n"
          ]
        }
      ]
    },
    {
      "cell_type": "markdown",
      "source": [
        "vamos a probar con **colores** jijiji"
      ],
      "metadata": {
        "id": "lxhrnlfGc_EI"
      }
    },
    {
      "cell_type": "code",
      "source": [
        "pip install colorama\n"
      ],
      "metadata": {
        "colab": {
          "base_uri": "https://localhost:8080/"
        },
        "id": "Gznwm1N0c7AR",
        "outputId": "6f08544e-b6b5-4481-ecf7-87102670b961"
      },
      "execution_count": 12,
      "outputs": [
        {
          "output_type": "stream",
          "name": "stdout",
          "text": [
            "Collecting colorama\n",
            "  Downloading colorama-0.4.6-py2.py3-none-any.whl.metadata (17 kB)\n",
            "Downloading colorama-0.4.6-py2.py3-none-any.whl (25 kB)\n",
            "Installing collected packages: colorama\n",
            "Successfully installed colorama-0.4.6\n"
          ]
        }
      ]
    },
    {
      "cell_type": "code",
      "source": [
        "from colorama import init, Fore, Style\n",
        "init()\n",
        "print(Style.BRIGHT + Fore.BLUE + \"Texto brillante azul\" + Style.RESET_ALL)\n",
        "\n",
        "#NO FUNCIONA EN LOS NOTEBOOKS U.U"
      ],
      "metadata": {
        "colab": {
          "base_uri": "https://localhost:8080/"
        },
        "id": "nZWIjoAQdBXp",
        "outputId": "4fe1ad26-87eb-49ae-c8b8-f89685c30cfd"
      },
      "execution_count": 14,
      "outputs": [
        {
          "output_type": "stream",
          "name": "stdout",
          "text": [
            "Texto brillante azul\n"
          ]
        }
      ]
    }
  ]
}