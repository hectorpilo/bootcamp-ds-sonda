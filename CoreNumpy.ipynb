{
  "nbformat": 4,
  "nbformat_minor": 0,
  "metadata": {
    "colab": {
      "provenance": [],
      "authorship_tag": "ABX9TyMjt5FAj7D4LzKaTNVxjpca",
      "include_colab_link": true
    },
    "kernelspec": {
      "name": "python3",
      "display_name": "Python 3"
    },
    "language_info": {
      "name": "python"
    }
  },
  "cells": [
    {
      "cell_type": "markdown",
      "metadata": {
        "id": "view-in-github",
        "colab_type": "text"
      },
      "source": [
        "<a href=\"https://colab.research.google.com/github/hectorpilo/bootcamp-ds-sonda/blob/main/CoreNumpy.ipynb\" target=\"_parent\"><img src=\"https://colab.research.google.com/assets/colab-badge.svg\" alt=\"Open In Colab\"/></a>"
      ]
    },
    {
      "cell_type": "code",
      "execution_count": 1,
      "metadata": {
        "colab": {
          "base_uri": "https://localhost:8080/"
        },
        "id": "5hxeW9coQuLl",
        "outputId": "2a50320e-3937-493c-fb5d-7006fd3c11d4"
      },
      "outputs": [
        {
          "output_type": "stream",
          "name": "stdout",
          "text": [
            "Total de ventas por producto a lo largo de la semana: [1524 1949 1695 1599 1894 1856 1775 1911 1847 1691]\n",
            "Total de ventas por tienda a lo largo de la semana: [3274 3708 3666 3662 3431]\n",
            "Promedio de ventas por producto por día: [43.54285714 55.68571429 48.42857143 45.68571429 54.11428571 53.02857143\n",
            " 50.71428571 54.6        52.77142857 48.31428571]\n",
            "Promedio de ventas por tienda por día: [46.77142857 52.97142857 52.37142857 52.31428571 49.01428571]\n",
            "Producto con mayor ventas: Producto 1\n",
            "Producto con menor ventas: Producto 0\n",
            "Tienda con mayor ventas: Tienda 1\n",
            "Tienda con menor ventas: Tienda 0\n"
          ]
        }
      ],
      "source": [
        "import numpy as np\n",
        "\n",
        "def generar_datos_ventas(productos, tiendas, dias):\n",
        "    # Genera datos de ventas aleatorias para el número de productos, tiendas y días especificados\n",
        "    return np.random.randint(0, 101, (productos, tiendas, dias))\n",
        "\n",
        "def calcular_totales_ventas_por_producto(datos):\n",
        "    # Calcula el total de ventas por producto a lo largo de la semana\n",
        "    return np.sum(datos, axis=(1, 2))\n",
        "\n",
        "def calcular_totales_ventas_por_tienda(datos):\n",
        "    # Calcula el total de ventas por tienda a lo largo de la semana\n",
        "    return np.sum(datos, axis=(0, 2))\n",
        "\n",
        "def calcular_promedio_ventas_por_producto(datos):\n",
        "    # Calcula el promedio de ventas por producto por día\n",
        "    return np.mean(datos, axis=(1, 2))\n",
        "\n",
        "def calcular_promedio_ventas_por_tienda(datos):\n",
        "    # Calcula el promedio de ventas por tienda por día\n",
        "    return np.mean(datos, axis=(0, 2))\n",
        "\n",
        "def encontrar_producto_mayor_menor_ventas(totales_por_producto):\n",
        "    # Encuentra el producto con mayor y menor ventas totales en la semana\n",
        "    producto_mayor_ventas = np.argmax(totales_por_producto)\n",
        "    producto_menor_ventas = np.argmin(totales_por_producto)\n",
        "    return producto_mayor_ventas, producto_menor_ventas\n",
        "\n",
        "def encontrar_tienda_mayor_menor_ventas(totales_por_tienda):\n",
        "    # Encuentra la tienda con mayor y menor ventas totales en la semana\n",
        "    tienda_mayor_ventas = np.argmax(totales_por_tienda)\n",
        "    tienda_menor_ventas = np.argmin(totales_por_tienda)\n",
        "    return tienda_mayor_ventas, tienda_menor_ventas\n",
        "\n",
        "def imprimir_resumen(estudiantes):\n",
        "    # Imprime un resumen con el nombre de los estudiantes, su promedio y su estado\n",
        "    pass\n",
        "\n",
        "productos = 10\n",
        "tiendas = 5\n",
        "dias = 7\n",
        "\n",
        "# Genera los datos de ventas\n",
        "datos = generar_datos_ventas(productos, tiendas, dias)\n",
        "\n",
        "# Calcula los totales y promedios\n",
        "totales_por_producto = calcular_totales_ventas_por_producto(datos)\n",
        "totales_por_tienda = calcular_totales_ventas_por_tienda(datos)\n",
        "promedio_por_producto = calcular_promedio_ventas_por_producto(datos)\n",
        "promedio_por_tienda = calcular_promedio_ventas_por_tienda(datos)\n",
        "\n",
        "# Encuentra el producto y la tienda con mayor y menor ventas\n",
        "producto_mayor_ventas, producto_menor_ventas = encontrar_producto_mayor_menor_ventas(totales_por_producto)\n",
        "tienda_mayor_ventas, tienda_menor_ventas = encontrar_tienda_mayor_menor_ventas(totales_por_tienda)\n",
        "\n",
        "# Imprime los resultados\n",
        "print(\"Total de ventas por producto a lo largo de la semana:\", totales_por_producto)\n",
        "print(\"Total de ventas por tienda a lo largo de la semana:\", totales_por_tienda)\n",
        "print(\"Promedio de ventas por producto por día:\", promedio_por_producto)\n",
        "print(\"Promedio de ventas por tienda por día:\", promedio_por_tienda)\n",
        "print(f\"Producto con mayor ventas: Producto {producto_mayor_ventas}\")\n",
        "print(f\"Producto con menor ventas: Producto {producto_menor_ventas}\")\n",
        "print(f\"Tienda con mayor ventas: Tienda {tienda_mayor_ventas}\")\n",
        "print(f\"Tienda con menor ventas: Tienda {tienda_menor_ventas}\")"
      ]
    }
  ]
}