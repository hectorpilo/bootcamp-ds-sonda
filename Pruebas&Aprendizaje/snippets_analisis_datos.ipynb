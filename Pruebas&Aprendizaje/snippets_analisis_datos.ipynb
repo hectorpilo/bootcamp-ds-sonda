{
  "cells": [
    {
      "cell_type": "markdown",
      "metadata": {
        "id": "view-in-github",
        "colab_type": "text"
      },
      "source": [
        "<a href=\"https://colab.research.google.com/github/hectorpilo/bootcamp-ds-sonda/blob/main/snippets_analisis_datos.ipynb\" target=\"_parent\"><img src=\"https://colab.research.google.com/assets/colab-badge.svg\" alt=\"Open In Colab\"/></a>"
      ]
    },
    {
      "cell_type": "markdown",
      "id": "48b2bae4",
      "metadata": {
        "id": "48b2bae4"
      },
      "source": [
        "# 📊 Snippets útiles para Análisis de Datos en Colab\n",
        "Este notebook contiene una colección de fragmentos de código (snippets) útiles para análisis de datos usando pandas en Google Colab."
      ]
    },
    {
      "cell_type": "code",
      "execution_count": null,
      "id": "21348fc0",
      "metadata": {
        "id": "21348fc0"
      },
      "outputs": [],
      "source": [
        "# ✅ Cargar librerías principales\n",
        "import pandas as pd\n",
        "import numpy as np\n",
        "import matplotlib.pyplot as plt\n",
        "import seaborn as sns"
      ]
    },
    {
      "cell_type": "markdown",
      "id": "556b39f1",
      "metadata": {
        "id": "556b39f1"
      },
      "source": [
        "## 📁 Cargar datos desde un CSV"
      ]
    },
    {
      "cell_type": "code",
      "execution_count": null,
      "id": "b4df95e8",
      "metadata": {
        "id": "b4df95e8"
      },
      "outputs": [],
      "source": [
        "# Reemplaza esta ruta por la ruta de tu archivo\n",
        "df_1 = pd.read_csv('/content/drive/MyDrive/archivo.csv')\n",
        "df_1.info()"
      ]
    },
    {
      "cell_type": "markdown",
      "id": "e2b048d1",
      "metadata": {
        "id": "e2b048d1"
      },
      "source": [
        "## 📊 Estadísticas básicas y estructura del DataFrame"
      ]
    },
    {
      "cell_type": "code",
      "execution_count": null,
      "id": "d8aa86a1",
      "metadata": {
        "id": "d8aa86a1"
      },
      "outputs": [],
      "source": [
        "# Ver primeras filas\n",
        "df_1.head()\n",
        "\n",
        "# Ver información general del DataFrame\n",
        "df_1.info()\n",
        "\n",
        "# Describir estadísticamente las columnas numéricas\n",
        "df_1.describe()"
      ]
    },
    {
      "cell_type": "markdown",
      "id": "4b6e999a",
      "metadata": {
        "id": "4b6e999a"
      },
      "source": [
        "## ❓ Revisión de valores nulos"
      ]
    },
    {
      "cell_type": "code",
      "execution_count": null,
      "id": "dab3a912",
      "metadata": {
        "id": "dab3a912"
      },
      "outputs": [],
      "source": [
        "# Recuento de valores nulos por columna\n",
        "df_1.isnull().sum()\n",
        "\n",
        "# Porcentaje de valores nulos\n",
        "(df_1.isnull().sum() / len(df_1)) * 100"
      ]
    },
    {
      "cell_type": "markdown",
      "id": "22fd9ef9",
      "metadata": {
        "id": "22fd9ef9"
      },
      "source": [
        "## 🧹 Eliminación de valores nulos"
      ]
    },
    {
      "cell_type": "code",
      "execution_count": null,
      "id": "319875d7",
      "metadata": {
        "id": "319875d7"
      },
      "outputs": [],
      "source": [
        "# Eliminar filas con al menos un valor nulo\n",
        "df_clean = df_1.dropna()\n",
        "\n",
        "# Eliminar columnas con muchos nulos (por ejemplo, más del 50%)\n",
        "threshold = len(df_1) * 0.5\n",
        "df_clean_cols = df_1.dropna(thresh=threshold, axis=1)"
      ]
    },
    {
      "cell_type": "markdown",
      "id": "2f45b7a8",
      "metadata": {
        "id": "2f45b7a8"
      },
      "source": [
        "## 🔍 Filtrado de datos por condiciones"
      ]
    },
    {
      "cell_type": "code",
      "execution_count": null,
      "id": "b6c2440e",
      "metadata": {
        "id": "b6c2440e"
      },
      "outputs": [],
      "source": [
        "# Ejemplo: filtrar por edad mayor a 30\n",
        "df_filtrado = df_1[df_1['Age'] > 30]\n",
        "\n",
        "# Ejemplo: filtrar productos con ventas mayores a 50 unidades\n",
        "df_ventas_altas = df_1[df_1['Quantity'] > 50]"
      ]
    },
    {
      "cell_type": "markdown",
      "id": "68b232b9",
      "metadata": {
        "id": "68b232b9"
      },
      "source": [
        "## 🚨 Detección de outliers (valores atípicos)"
      ]
    },
    {
      "cell_type": "code",
      "execution_count": null,
      "id": "98f2750d",
      "metadata": {
        "id": "98f2750d"
      },
      "outputs": [],
      "source": [
        "# Usando IQR (Interquartile Range)\n",
        "Q1 = df_1['Quantity'].quantile(0.25)\n",
        "Q3 = df_1['Quantity'].quantile(0.75)\n",
        "IQR = Q3 - Q1\n",
        "outliers = df_1[(df_1['Quantity'] < Q1 - 1.5 * IQR) | (df_1['Quantity'] > Q3 + 1.5 * IQR)]\n",
        "\n",
        "print(\"Cantidad de outliers detectados:\", len(outliers))"
      ]
    },
    {
      "cell_type": "markdown",
      "id": "c380116b",
      "metadata": {
        "id": "c380116b"
      },
      "source": [
        "## 📈 Visualización básica"
      ]
    },
    {
      "cell_type": "code",
      "execution_count": null,
      "id": "b5bbbf7e",
      "metadata": {
        "id": "b5bbbf7e"
      },
      "outputs": [],
      "source": [
        "# Histograma\n",
        "df_1['Quantity'].hist(bins=30)\n",
        "plt.title(\"Distribución de la cantidad vendida\")\n",
        "plt.xlabel(\"Cantidad\")\n",
        "plt.ylabel(\"Frecuencia\")\n",
        "plt.show()\n",
        "\n",
        "# Boxplot\n",
        "sns.boxplot(x=df_1['Quantity'])\n",
        "plt.title(\"Boxplot de Cantidad\")\n",
        "plt.show()"
      ]
    }
  ],
  "metadata": {
    "colab": {
      "provenance": [],
      "include_colab_link": true
    }
  },
  "nbformat": 4,
  "nbformat_minor": 5
}