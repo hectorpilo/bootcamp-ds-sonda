{
  "cells": [
    {
      "cell_type": "markdown",
      "metadata": {
        "id": "view-in-github",
        "colab_type": "text"
      },
      "source": [
        "<a href=\"https://colab.research.google.com/github/hectorpilo/bootcamp-ds-sonda/blob/main/Practicando_While.ipynb\" target=\"_parent\"><img src=\"https://colab.research.google.com/assets/colab-badge.svg\" alt=\"Open In Colab\"/></a>"
      ]
    },
    {
      "cell_type": "markdown",
      "metadata": {
        "id": "d3yboFxyht6q"
      },
      "source": [
        "# ⛹ **Practicando**\n",
        "Todos tenemos una forma de aprender especial, a mi me gusta transformar el estudio en algo que se vuelda divertido. Aveces escribo groserias, pero lo paso bien, aprendo y me divierto. Es lo importante.\n",
        "\n",
        "\n"
      ]
    },
    {
      "cell_type": "markdown",
      "metadata": {
        "id": "EkMcPkwRjKhB"
      },
      "source": [
        "Preguntando cualquier cosa y se terminará cuando escriba 'salir'."
      ]
    },
    {
      "cell_type": "code",
      "execution_count": null,
      "metadata": {
        "colab": {
          "base_uri": "https://localhost:8080/"
        },
        "collapsed": true,
        "id": "37wNOzgziUOq",
        "outputId": "50975175-ddd2-41ec-a13f-bd97e81e5482"
      },
      "outputs": [
        {
          "ename": "KeyboardInterrupt",
          "evalue": "Interrupted by user",
          "output_type": "error",
          "traceback": [
            "\u001b[0;31m---------------------------------------------------------------------------\u001b[0m",
            "\u001b[0;31mKeyboardInterrupt\u001b[0m                         Traceback (most recent call last)",
            "\u001b[0;32m<ipython-input-19-14d461514279>\u001b[0m in \u001b[0;36m<cell line: 0>\u001b[0;34m()\u001b[0m\n\u001b[0;32m----> 1\u001b[0;31m \u001b[0mpreg\u001b[0m \u001b[0;34m=\u001b[0m \u001b[0minput\u001b[0m\u001b[0;34m(\u001b[0m\u001b[0;34m'Ingresa cualquier valor: '\u001b[0m\u001b[0;34m)\u001b[0m\u001b[0;34m.\u001b[0m\u001b[0mlower\u001b[0m\u001b[0;34m(\u001b[0m\u001b[0;34m)\u001b[0m\u001b[0;34m\u001b[0m\u001b[0;34m\u001b[0m\u001b[0m\n\u001b[0m\u001b[1;32m      2\u001b[0m \u001b[0;34m\u001b[0m\u001b[0m\n\u001b[1;32m      3\u001b[0m \u001b[0;32mwhile\u001b[0m \u001b[0mpreg\u001b[0m \u001b[0;34m!=\u001b[0m \u001b[0;34m'salir'\u001b[0m\u001b[0;34m:\u001b[0m\u001b[0;34m\u001b[0m\u001b[0;34m\u001b[0m\u001b[0m\n\u001b[1;32m      4\u001b[0m     \u001b[0mprint\u001b[0m\u001b[0;34m(\u001b[0m\u001b[0;34mf'Tú escribiste: {preg}'\u001b[0m\u001b[0;34m)\u001b[0m\u001b[0;34m\u001b[0m\u001b[0;34m\u001b[0m\u001b[0m\n\u001b[1;32m      5\u001b[0m     \u001b[0mpreg\u001b[0m \u001b[0;34m=\u001b[0m \u001b[0minput\u001b[0m\u001b[0;34m(\u001b[0m\u001b[0;34mf'Pregunta cualquier otra cosa distinta de \"{preg}\": '\u001b[0m\u001b[0;34m)\u001b[0m\u001b[0;34m.\u001b[0m\u001b[0mlower\u001b[0m\u001b[0;34m(\u001b[0m\u001b[0;34m)\u001b[0m\u001b[0;34m\u001b[0m\u001b[0;34m\u001b[0m\u001b[0m\n",
            "\u001b[0;32m/usr/local/lib/python3.11/dist-packages/ipykernel/kernelbase.py\u001b[0m in \u001b[0;36mraw_input\u001b[0;34m(self, prompt)\u001b[0m\n\u001b[1;32m   1175\u001b[0m                 \u001b[0;34m\"raw_input was called, but this frontend does not support input requests.\"\u001b[0m\u001b[0;34m\u001b[0m\u001b[0;34m\u001b[0m\u001b[0m\n\u001b[1;32m   1176\u001b[0m             )\n\u001b[0;32m-> 1177\u001b[0;31m         return self._input_request(\n\u001b[0m\u001b[1;32m   1178\u001b[0m             \u001b[0mstr\u001b[0m\u001b[0;34m(\u001b[0m\u001b[0mprompt\u001b[0m\u001b[0;34m)\u001b[0m\u001b[0;34m,\u001b[0m\u001b[0;34m\u001b[0m\u001b[0;34m\u001b[0m\u001b[0m\n\u001b[1;32m   1179\u001b[0m             \u001b[0mself\u001b[0m\u001b[0;34m.\u001b[0m\u001b[0m_parent_ident\u001b[0m\u001b[0;34m[\u001b[0m\u001b[0;34m\"shell\"\u001b[0m\u001b[0;34m]\u001b[0m\u001b[0;34m,\u001b[0m\u001b[0;34m\u001b[0m\u001b[0;34m\u001b[0m\u001b[0m\n",
            "\u001b[0;32m/usr/local/lib/python3.11/dist-packages/ipykernel/kernelbase.py\u001b[0m in \u001b[0;36m_input_request\u001b[0;34m(self, prompt, ident, parent, password)\u001b[0m\n\u001b[1;32m   1217\u001b[0m             \u001b[0;32mexcept\u001b[0m \u001b[0mKeyboardInterrupt\u001b[0m\u001b[0;34m:\u001b[0m\u001b[0;34m\u001b[0m\u001b[0;34m\u001b[0m\u001b[0m\n\u001b[1;32m   1218\u001b[0m                 \u001b[0;31m# re-raise KeyboardInterrupt, to truncate traceback\u001b[0m\u001b[0;34m\u001b[0m\u001b[0;34m\u001b[0m\u001b[0m\n\u001b[0;32m-> 1219\u001b[0;31m                 \u001b[0;32mraise\u001b[0m \u001b[0mKeyboardInterrupt\u001b[0m\u001b[0;34m(\u001b[0m\u001b[0;34m\"Interrupted by user\"\u001b[0m\u001b[0;34m)\u001b[0m \u001b[0;32mfrom\u001b[0m \u001b[0;32mNone\u001b[0m\u001b[0;34m\u001b[0m\u001b[0;34m\u001b[0m\u001b[0m\n\u001b[0m\u001b[1;32m   1220\u001b[0m             \u001b[0;32mexcept\u001b[0m \u001b[0mException\u001b[0m\u001b[0;34m:\u001b[0m\u001b[0;34m\u001b[0m\u001b[0;34m\u001b[0m\u001b[0m\n\u001b[1;32m   1221\u001b[0m                 \u001b[0mself\u001b[0m\u001b[0;34m.\u001b[0m\u001b[0mlog\u001b[0m\u001b[0;34m.\u001b[0m\u001b[0mwarning\u001b[0m\u001b[0;34m(\u001b[0m\u001b[0;34m\"Invalid Message:\"\u001b[0m\u001b[0;34m,\u001b[0m \u001b[0mexc_info\u001b[0m\u001b[0;34m=\u001b[0m\u001b[0;32mTrue\u001b[0m\u001b[0;34m)\u001b[0m\u001b[0;34m\u001b[0m\u001b[0;34m\u001b[0m\u001b[0m\n",
            "\u001b[0;31mKeyboardInterrupt\u001b[0m: Interrupted by user"
          ]
        }
      ],
      "source": [
        "preg = input('Ingresa cualquier valor: ').lower()\n",
        "\n",
        "while preg != 'salir':\n",
        "    print(f'Tú escribiste: {preg}')\n",
        "    preg = input(f'Pregunta cualquier otra cosa distinta de \"{preg}\": ').lower()\n",
        "\n",
        "print(\"Muy bien, escribiste 'salir' y el programa termina.\")\n"
      ]
    },
    {
      "cell_type": "markdown",
      "metadata": {
        "id": "orBG9xUGjSdj"
      },
      "source": [
        "Ahora, haré uno que guardará un numero secreto, por ejemplo...me gusta el numero 69. le preguntaré al usuario que adivine el pinche numero y si lo adivina, imprimirá \"correcto desgraciao\""
      ]
    },
    {
      "cell_type": "code",
      "execution_count": null,
      "metadata": {
        "collapsed": true,
        "id": "-yWTTx1RjiYk"
      },
      "outputs": [],
      "source": [
        "numero = input('adivina en que numero estoy pensando, escribelo amor: ')\n",
        "while numero != 69:\n",
        "  print(f'no no no, no es {numero}')\n",
        "  numero = input(f'escribe otro ')\n",
        "print('cochina, si jaja era ese.')"
      ]
    },
    {
      "cell_type": "markdown",
      "metadata": {
        "id": "l1vk30xLkrgY"
      },
      "source": [
        "Como el de arriba se volvio muy fome, iré agregando pistas...si el numero está entre 1 y 40 imprimirá \"frio frio\", si el numero está entre 40 y 60, imprimirá \"tibio tibio\" , si el numero está entre 60 y 70, imprirmirá \"muy muy cerca\" y si es más de 70 imprimirá, \"no te pasaste\"."
      ]
    },
    {
      "cell_type": "code",
      "execution_count": null,
      "metadata": {
        "id": "_j2J-7BJlC9Y"
      },
      "outputs": [],
      "source": [
        "numero = int(input('adivina en que numero estoy pensando, escribelo amor: '))\n",
        "while numero != 69:\n",
        "  print(f'no no no, no es {numero}')\n",
        "  if 1 < numero < 40:\n",
        "    print('frio frio')\n",
        "  elif 41 < numero < 59:\n",
        "    print('tibio tibio')\n",
        "  elif 60 < numero < 70:\n",
        "    print('cerca cerca')\n",
        "  elif numero > 70:\n",
        "    print('no mms te fuiste lejos')\n",
        "  numero = int(input('intenta de nuevo, amorchito: '))\n",
        "print('cochina, si jaja era ese.')"
      ]
    },
    {
      "cell_type": "markdown",
      "metadata": {
        "id": "7zKoJiCPpOo8"
      },
      "source": [
        "ehmm como no tengo paciencia, le daré 3 oportunidades. Así que voy a meter una variable que almacenará la cantidad de oportunidades que le daré."
      ]
    },
    {
      "cell_type": "code",
      "execution_count": null,
      "metadata": {
        "id": "quUSxy7Ep5Aq"
      },
      "outputs": [],
      "source": [
        "intentos = 3\n",
        "numero = int(input('adivina en que numero estoy pensando, escribelo amor: '))\n",
        "\n",
        "while numero != 69 and intentos > 1:\n",
        "      intentos -=1\n",
        "      print(f'no no no, no es {numero} y te quedan {intentos} yapues')\n",
        "\n",
        "      if 1 < numero < 40:\n",
        "          print('frio frio')\n",
        "      elif 41 < numero < 59:\n",
        "          print('tibio tibio')\n",
        "      elif 60 < numero < 70:\n",
        "          print('cerca cerca')\n",
        "      elif numero > 70:\n",
        "           print('no mms te fuiste lejos')\n",
        "      numero = int(input('intenta de nuevo, amorchito: '))\n",
        "if numero == 69:\n",
        "    print('fresca ash, jajaja si era ese jiji')\n",
        "else:\n",
        "    print('lo siento amor, ya no te quedan intentos..para variar la regaste.')"
      ]
    },
    {
      "cell_type": "markdown",
      "metadata": {
        "id": "5-y2Sa5sAcUW"
      },
      "source": [
        "Haré un contador de palabras... Ni idea como ☝, pero aquí voy..\n"
      ]
    },
    {
      "cell_type": "code",
      "execution_count": null,
      "metadata": {
        "colab": {
          "background_save": true,
          "base_uri": "https://localhost:8080/"
        },
        "id": "SrFDZPJTIeh0",
        "outputId": "b5ef5cfd-ee63-4701-e4c9-db2d99c12457"
      },
      "outputs": [
        {
          "name": "stdout",
          "output_type": "stream",
          "text": [
            "No eres educado, adiós\n",
            "No eres educado, adiós\n"
          ]
        }
      ],
      "source": [
        "# Vamos a contar palabras feas.\n",
        "malas_palabras = {'idiota', 'estupido', 'reparimpapota', 'tu hermana', 'chapalapachala', 'merluzo'}  # Set de palabras malas.\n",
        "groserias = {}  # Aquí iremos guardando las weas\n",
        "veces = 3\n",
        "\n",
        "frase = \"\"  #tenemos que hacer la variable, vacia...da lo mismo es para que el while no se aweone.\n",
        "\n",
        "while frase != \"fin\":  #si se llega a detectar que se escribio la palabra fin, valiste.\n",
        "    frase = input('Ahora sí ya valiste perro, voy a ver qué tan educado eres... escribe \"fin\" para salir: ')\n",
        "\n",
        "    for palabra in frase.split():\n",
        "        if palabra in malas_palabras:\n",
        "            print('No eres educado, adiós')\n",
        "            break\n",
        "            if palabra in groserias:\n",
        "                groserias[palabra] += 1\n",
        "            else:\n",
        "                groserias[palabra] = 1\n",
        "        else:\n",
        "            print('Sigue intentando perruooo muahahaha')\n",
        "\n",
        "# Mostrar resumen de groserías\n",
        "\n",
        "for palabra, veces in groserias.items():\n",
        "    print(f\"- Dijiste '{palabra}' {veces} vez/veces\")\n"
      ]
    }
  ],
  "metadata": {
    "colab": {
      "provenance": [],
      "authorship_tag": "ABX9TyPhS39xxnAsOlgTWSl+nh/L",
      "include_colab_link": true
    },
    "kernelspec": {
      "display_name": "Python 3",
      "name": "python3"
    },
    "language_info": {
      "name": "python"
    }
  },
  "nbformat": 4,
  "nbformat_minor": 0
}