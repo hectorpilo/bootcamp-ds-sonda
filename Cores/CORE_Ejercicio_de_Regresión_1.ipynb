{
  "nbformat": 4,
  "nbformat_minor": 0,
  "metadata": {
    "colab": {
      "provenance": [],
      "authorship_tag": "ABX9TyMs0NvOyiHzgCPvO2JZmbi3",
      "include_colab_link": true
    },
    "kernelspec": {
      "name": "python3",
      "display_name": "Python 3"
    },
    "language_info": {
      "name": "python"
    }
  },
  "cells": [
    {
      "cell_type": "markdown",
      "metadata": {
        "id": "view-in-github",
        "colab_type": "text"
      },
      "source": [
        "<a href=\"https://colab.research.google.com/github/hectorpilo/bootcamp-ds-sonda/blob/main/Ejercicio_de_Regresi%C3%B3n_1_(Core).ipynb\" target=\"_parent\"><img src=\"https://colab.research.google.com/assets/colab-badge.svg\" alt=\"Open In Colab\"/></a>"
      ]
    },
    {
      "cell_type": "markdown",
      "source": [],
      "metadata": {
        "id": "UmksUjrBgY3F"
      }
    },
    {
      "cell_type": "code",
      "execution_count": null,
      "metadata": {
        "id": "bNP_cjhQgH25"
      },
      "outputs": [],
      "source": [
        "# Usamos la biblioteca google para poder usar archivos en nuestro drive.\n",
        "from google.colab import drive\n",
        "drive.mount('/content/drive')\n",
        "import pandas as pd\n",
        "import matplotlib.pyplot as plt\n",
        "import seaborn as sns\n",
        "path = \"/content/drive/MyDrive/BBDD/house-prices.csv\"\n",
        "df = pd.read_csv(path)\n",
        "\n",
        "\n",
        "#para limpiar cuando hay espacios en los nombres de las columnas. df.columns = df.columns.str.strip()\n"
      ]
    },
    {
      "cell_type": "markdown",
      "source": [
        "Inspección de la DATA"
      ],
      "metadata": {
        "id": "rIaxp7jxhACg"
      }
    },
    {
      "cell_type": "code",
      "source": [
        "df.head()"
      ],
      "metadata": {
        "id": "JOyM0HcfhChZ"
      },
      "execution_count": null,
      "outputs": []
    },
    {
      "cell_type": "code",
      "source": [
        "df.tail()"
      ],
      "metadata": {
        "id": "H90OL1KLhG2w"
      },
      "execution_count": null,
      "outputs": []
    },
    {
      "cell_type": "code",
      "source": [
        "df.info()"
      ],
      "metadata": {
        "id": "rh6qTbsBhMjK"
      },
      "execution_count": null,
      "outputs": []
    },
    {
      "cell_type": "markdown",
      "source": [
        "Las Variables Brick y Neighborhood son categoricas, así que habrá que transformaras."
      ],
      "metadata": {
        "id": "MWACQGLYtjlb"
      }
    },
    {
      "cell_type": "code",
      "source": [
        "df.describe().T"
      ],
      "metadata": {
        "id": "0Y1xdakOhR_L"
      },
      "execution_count": null,
      "outputs": []
    },
    {
      "cell_type": "code",
      "source": [
        "df.isnull().sum()"
      ],
      "metadata": {
        "id": "6qUZ-8eehWig"
      },
      "execution_count": null,
      "outputs": []
    },
    {
      "cell_type": "code",
      "source": [
        "df.duplicated().sum()"
      ],
      "metadata": {
        "id": "USQdHrLbhbqZ"
      },
      "execution_count": null,
      "outputs": []
    },
    {
      "cell_type": "markdown",
      "source": [
        "# **ANALISIS GRAFICO**"
      ],
      "metadata": {
        "id": "v-hl40WwirNs"
      }
    },
    {
      "cell_type": "code",
      "source": [
        "plt.figure(figsize=(8, 6))\n",
        "sns.boxplot(x=df[\"Price\"])\n",
        "\n",
        "plt.title(\"Boxplot de Price\")\n",
        "plt.xlabel(\"Price\")\n",
        "\n",
        "plt.show()\n"
      ],
      "metadata": {
        "id": "8CM7TIqHiIUL"
      },
      "execution_count": null,
      "outputs": []
    },
    {
      "cell_type": "code",
      "source": [
        "# 1. Calculamos los cuartiles\n",
        "Q1 = df['Price'].quantile(0.25)\n",
        "Q3 = df['Price'].quantile(0.75)\n",
        "IQR = Q3 - Q1\n",
        "\n",
        "# 2. Calculamos los límites para outliers\n",
        "lower_bound = Q1 - 1.5 * IQR\n",
        "upper_bound = Q3 + 1.5 * IQR\n",
        "\n",
        "print(f\"Límite inferior: {lower_bound}\")\n",
        "print(f\"Límite superior: {upper_bound}\")\n",
        "\n",
        "# 3. Filtramos los registros que son outliers\n",
        "outliers = df[(df['Price'] < lower_bound) | (df['Price'] > upper_bound)]\n",
        "\n",
        "print(\"Outliers encontrados:\")\n",
        "print(outliers)\n"
      ],
      "metadata": {
        "id": "YVugK4ZKjDhN"
      },
      "execution_count": null,
      "outputs": []
    },
    {
      "cell_type": "markdown",
      "source": [
        "# COMENTARIO: Hay un outlier, veremos como afecta eso nuestro modelo, haciendo un aprendizaje con el registro outlier y sin el."
      ],
      "metadata": {
        "id": "PyAe9iYJhwBa"
      }
    },
    {
      "cell_type": "markdown",
      "source": [
        "Con el Outlier."
      ],
      "metadata": {
        "id": "DZNpsGkMh3Fp"
      }
    },
    {
      "cell_type": "code",
      "source": [
        "from sklearn.linear_model import LinearRegression"
      ],
      "metadata": {
        "id": "OfhlqbpTpGTq"
      },
      "execution_count": null,
      "outputs": []
    },
    {
      "cell_type": "code",
      "source": [
        "X = df.drop(columns=[\"Home\", \"Price\", \"Brick\", \"Neighborhood\",\"Offers\"]) #Por que HOME es un ID y me aportará ruido, y en el enunciado del ejercicio solo piden las columnas que se quedarán.\n",
        "y = df[\"Price\"]"
      ],
      "metadata": {
        "id": "6t6lNPHAsERW"
      },
      "execution_count": null,
      "outputs": []
    },
    {
      "cell_type": "code",
      "source": [
        "from sklearn.model_selection import train_test_split\n",
        "\n",
        "# Dividir los datos: 80% entrenamiento, 20% prueba\n",
        "X_train, X_test, y_train, y_test = train_test_split(\n",
        "    X, y, test_size=0.2, random_state=42)\n"
      ],
      "metadata": {
        "id": "uUCf2dGdzWMX"
      },
      "execution_count": null,
      "outputs": []
    },
    {
      "cell_type": "code",
      "source": [
        "from sklearn.linear_model import LinearRegression\n",
        "\n",
        "# Crear el modelo\n",
        "modelo = LinearRegression()\n",
        "\n",
        "# Ajustar el modelo con los datos de entrenamiento\n",
        "modelo.fit(X_train, y_train)"
      ],
      "metadata": {
        "id": "M1YMpXyX0STs"
      },
      "execution_count": null,
      "outputs": []
    },
    {
      "cell_type": "code",
      "source": [
        "y_pred = modelo.predict(X_test)\n",
        "y_pred"
      ],
      "metadata": {
        "id": "2OOYv4NO0WXt"
      },
      "execution_count": null,
      "outputs": []
    },
    {
      "cell_type": "code",
      "source": [
        "from sklearn.metrics import mean_squared_error, r2_score\n",
        "import numpy as np\n",
        "\n",
        "# Calculamos RMSE y R²\n",
        "rmse = np.sqrt(mean_squared_error(y_test, y_pred))\n",
        "r2 = r2_score(y_test, y_pred)\n",
        "\n",
        "print(f\"RMSE: {rmse:.2f}\")\n",
        "print(f\"R²: {r2:.2f}\")"
      ],
      "metadata": {
        "id": "38SEDwp-0cdz"
      },
      "execution_count": null,
      "outputs": []
    },
    {
      "cell_type": "markdown",
      "source": [
        "# **ADICIONAL: Guardaré el modelo y haré unas pruebas.**"
      ],
      "metadata": {
        "id": "3e2-WdlT2PqG"
      }
    },
    {
      "cell_type": "code",
      "source": [
        "import joblib\n",
        "\n",
        "# Guardar el modelo entrenado en un archivo .pkl\n",
        "joblib.dump(modelo, \"modelo_regresion.pkl\")\n"
      ],
      "metadata": {
        "id": "SSpasLm92VhU"
      },
      "execution_count": null,
      "outputs": []
    },
    {
      "cell_type": "code",
      "source": [
        "nueva_casa = pd.DataFrame({\n",
        "    \"SqFt\": [2000],\n",
        "    \"Bedrooms\": [4],\n",
        "    \"Bathrooms\": [3]\n",
        "})"
      ],
      "metadata": {
        "id": "Mv0KJtAr2l8O"
      },
      "execution_count": null,
      "outputs": []
    },
    {
      "cell_type": "code",
      "source": [
        "import joblib\n",
        "\n",
        "# Cargar el modelo desde el archivo .pkl\n",
        "modelo_cargado = joblib.load(\"modelo_regresion.pkl\")\n",
        "\n",
        "# usarlo como antes\n",
        "nueva_prediccion = modelo_cargado.predict(nueva_casa)\n",
        "nueva_prediccion"
      ],
      "metadata": {
        "id": "A_Ehe7NN2nA0"
      },
      "execution_count": null,
      "outputs": []
    },
    {
      "cell_type": "code",
      "source": [
        "print(f\"Precio estimado para la casa: ${nueva_prediccion[0]:,.2f}\") #formateamos la salida para que se vea bonito.\n"
      ],
      "metadata": {
        "id": "yuWwAHIF245d"
      },
      "execution_count": null,
      "outputs": []
    },
    {
      "cell_type": "markdown",
      "source": [
        "# **Mas Pruebas**\n",
        "Ahora, le pediré al usuario que ingrese los valores de los metros cuadrados, las habitaciones, los baños y de Offers."
      ],
      "metadata": {
        "id": "JHBNN2bW3CVF"
      }
    },
    {
      "cell_type": "code",
      "source": [
        "import pandas as pd\n",
        "\n",
        "# Pedir al usuario los valores\n",
        "mts = float(input(\"Ingrese el tamaño en metros cuadrados (Mts²): \"))\n",
        "bedrooms = int(input(\"Ingrese el número de habitaciones (Bedrooms): \"))\n",
        "bathrooms = int(input(\"Ingrese el número de baños (Bathrooms): \"))\n",
        "\n",
        "# Convertir metros cuadrados a pies cuadrados\n",
        "sqft = mts * 10.7639\n",
        "\n",
        "# Crear el DataFrame solo con las columnas necesarias\n",
        "nueva_casa = pd.DataFrame({\n",
        "    \"SqFt\": [sqft],\n",
        "    \"Bedrooms\": [bedrooms],\n",
        "    \"Bathrooms\": [bathrooms]\n",
        "})\n",
        "\n",
        "# Hacer la predicción\n",
        "prediccion = modelo.predict(nueva_casa)\n",
        "\n",
        "# Mostrar el resultado formateado\n",
        "print(f\"\\nPrecio estimado para la casa: ${prediccion[0]:,.2f}\")\n",
        "\n"
      ],
      "metadata": {
        "colab": {
          "base_uri": "https://localhost:8080/"
        },
        "id": "VUj8tHsG3lR_",
        "outputId": "5b5236db-a30e-4b5a-cc19-06b069442963"
      },
      "execution_count": 58,
      "outputs": [
        {
          "output_type": "stream",
          "name": "stdout",
          "text": [
            "Ingrese el tamaño en metros cuadrados (Mts²): 150\n",
            "Ingrese el número de habitaciones (Bedrooms): 3\n",
            "Ingrese el número de baños (Bathrooms): 4\n",
            "\n",
            "Precio estimado para la casa: $133,743.27\n"
          ]
        }
      ]
    }
  ]
}