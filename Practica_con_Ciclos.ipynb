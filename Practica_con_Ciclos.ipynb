{
  "nbformat": 4,
  "nbformat_minor": 0,
  "metadata": {
    "colab": {
      "provenance": [],
      "authorship_tag": "ABX9TyPMR0bgw+uc2dLZwRBxwDne",
      "include_colab_link": true
    },
    "kernelspec": {
      "name": "python3",
      "display_name": "Python 3"
    },
    "language_info": {
      "name": "python"
    }
  },
  "cells": [
    {
      "cell_type": "markdown",
      "metadata": {
        "id": "view-in-github",
        "colab_type": "text"
      },
      "source": [
        "<a href=\"https://colab.research.google.com/github/hectorpilo/bootcamp-ds-sonda/blob/main/Practica_con_Ciclos.ipynb\" target=\"_parent\"><img src=\"https://colab.research.google.com/assets/colab-badge.svg\" alt=\"Open In Colab\"/></a>"
      ]
    },
    {
      "cell_type": "markdown",
      "source": [
        "# Practicando con Ciclos"
      ],
      "metadata": {
        "id": "RszMK3yKRxaN"
      }
    },
    {
      "cell_type": "code",
      "source": [
        "#Cracion de diccionario de inventario\n",
        "inventario = {} #Diccionario Vacio\n",
        "inventario[\"manzana\"] = 50\n",
        "inventario[\"naranja\"]=30\n",
        "inventario[\"bananas\"]=20\n",
        "inventario[\"peras\"]=15\n",
        "print(inventario) #muestra solo el diccionario.\n",
        "\n",
        "#mostrar todos los productos y sus cantidades.\n",
        "for producto, cantidad in inventario.items(): #asi los muestra más ordenados.\n",
        "  print(f\"{producto}:{cantidad}\")\n",
        "\n",
        "#Actualizar la cantidad de un producto especifico.\n",
        "\n",
        "inventario[\"naranjas\"] = 25\n",
        "\n",
        "#agregar un nuevo producto al inventario\n",
        "\n",
        "inventario[\"uvas\"] = 40\n",
        "\n",
        "#eliminar un producto del inventario\n",
        "del inventario[\"peras\"]\n",
        "\n",
        "print(\"nInventario actualizado:\")\n",
        "for producto, cantidad in inventario.items():\n",
        "  print(f\"{producto}:{cantidad}\")"
      ],
      "metadata": {
        "colab": {
          "base_uri": "https://localhost:8080/"
        },
        "id": "4YTjIpJZS4A7",
        "outputId": "6e83f110-6f98-4cdf-9ae4-aac747aa590b"
      },
      "execution_count": null,
      "outputs": [
        {
          "output_type": "stream",
          "name": "stdout",
          "text": [
            "{'manzana': 50, 'naranja': 30, 'bananas': 20, 'peras': 15}\n",
            "manzana:50\n",
            "naranja:30\n",
            "bananas:20\n",
            "peras:15\n",
            "nInventario actualizado:\n",
            "manzana:50\n",
            "naranja:30\n",
            "bananas:20\n",
            "naranjas:25\n",
            "uvas:40\n"
          ]
        }
      ]
    },
    {
      "cell_type": "markdown",
      "source": [
        "Ejercicio 2: Procesamiento de datos de estudiantes"
      ],
      "metadata": {
        "id": "a27ZrovGU2D1"
      }
    },
    {
      "cell_type": "code",
      "source": [
        "#crea una lista de tupla donde cada tupla contenga el nombre de un estudiante y su calificacion en un examen.\n",
        "estudiantes = [(\"Juan\",85),(\"Maria\",92),(\"Pedro\",78),(\"Luis\",95)]\n",
        "#Mostrar todos los nombres y calificaciones\n",
        "for nombre, calificacion in estudiantes:\n",
        "  print(f'{nombre}:{calificacion}')\n",
        "\n",
        "#calcular la calificacion promedio\n",
        "suma_calificaciones = sum(calificacion for nombre, calificacion in estudiantes)\n",
        "promedio = suma_calificaciones/len(estudiantes)\n",
        "print(f\"Calificacion promedio: {promedio:.2f}\")\n",
        "\n",
        "#encontrar la calificacion mas alta y mas baja.\n",
        "calificaciones = [calificacion for nombre, calificacion in estudiantes]\n",
        "calificacion_maxima = max(calificaciones)\n",
        "calificacion_minima = min(calificaciones)\n",
        "print(f\"calificacion mas alta: {calificacion_maxima}\")\n",
        "print(f\"Calificacion mas baja: {calificacion_minima}\")"
      ],
      "metadata": {
        "colab": {
          "base_uri": "https://localhost:8080/"
        },
        "id": "Nhupnlk8V2ac",
        "outputId": "1d7fe94e-b458-4d24-9589-5a2aac472c71"
      },
      "execution_count": 5,
      "outputs": [
        {
          "output_type": "stream",
          "name": "stdout",
          "text": [
            "Juan:85\n",
            "Maria:92\n",
            "Pedro:78\n",
            "Luis:95\n",
            "Calificacion promedio: 87.50\n",
            "calificacion mas alta: 95\n",
            "Calificacion mas baja: 78\n"
          ]
        }
      ]
    },
    {
      "cell_type": "markdown",
      "source": [
        "Ejercicio 3: Registro de Ventas"
      ],
      "metadata": {
        "id": "eFjsQgkLiKb_"
      }
    },
    {
      "cell_type": "code",
      "source": [
        "#Creacion del diccionario de ventas\n",
        "ventas = {\n",
        "    \"Carlos\": [100,200,150,300,250,400,350],\n",
        "    \"Maria\":[200,300,250,350,300,450,500],\n",
        "    \"Luis\":[150,250,200,300,350,400,450],\n",
        "    \"Ana\":[300,350,400,450,500,550,600]\n",
        "}\n",
        "\n",
        "#mostrar el total de ventas de cada vendedor\n",
        "for vendedor, lista_ventas in ventas.items():\n",
        "  total_ventas = sum(lista_ventas)\n",
        "  print(f\"{vendedor}:{total_ventas}\")\n",
        "\n",
        "#Calcular y mostrar el vendedor con el mayor total de ventas\n",
        "ventas_totales = {vendedor: sum(lista_ventas) for vendedor, lista_ventas in ventas.items()}\n",
        "vendedor_maximo = max(ventas_totales, key=ventas_totales.get)\n",
        "print(f\"Vendedor con el mayor total de ventas: {vendedor_maximo} con {ventas_totales[vendedor_maximo]} ventas\")"
      ],
      "metadata": {
        "colab": {
          "base_uri": "https://localhost:8080/"
        },
        "id": "4NOxEb6KjB0l",
        "outputId": "d8dd5502-d57e-4b8d-e26c-b641f43bf941"
      },
      "execution_count": 8,
      "outputs": [
        {
          "output_type": "stream",
          "name": "stdout",
          "text": [
            "Carlos:1750\n",
            "Maria:2350\n",
            "Luis:2100\n",
            "Ana:3150\n",
            "Vendedor con el mayor total de ventas: Ana con 3150 ventas\n"
          ]
        }
      ]
    }
  ]
}