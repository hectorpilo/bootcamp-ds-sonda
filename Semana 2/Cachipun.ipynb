{
  "nbformat": 4,
  "nbformat_minor": 0,
  "metadata": {
    "colab": {
      "provenance": [],
      "authorship_tag": "ABX9TyOQo/+/96K4ka7smxUBV8ZK",
      "include_colab_link": true
    },
    "kernelspec": {
      "name": "python3",
      "display_name": "Python 3"
    },
    "language_info": {
      "name": "python"
    }
  },
  "cells": [
    {
      "cell_type": "markdown",
      "metadata": {
        "id": "view-in-github",
        "colab_type": "text"
      },
      "source": [
        "<a href=\"https://colab.research.google.com/github/hectorpilo/bootcamp-ds-sonda/blob/main/Cachipun.ipynb\" target=\"_parent\"><img src=\"https://colab.research.google.com/assets/colab-badge.svg\" alt=\"Open In Colab\"/></a>"
      ]
    },
    {
      "cell_type": "markdown",
      "source": [
        "el juego piedra papel o tijera, es chileno. Sip..y se llama cachipún."
      ],
      "metadata": {
        "id": "IBftXxqc4Nes"
      }
    },
    {
      "cell_type": "code",
      "source": [
        "import random\n",
        "\n",
        "opciones = ['piedra', 'papel', 'tijera']\n",
        "print('Bienvenidos al cachipún chemimairee uyuyuuuuii')\n",
        "\n",
        "while True:  # True con mayúscula\n",
        "    jugador = input('Elige piedra, papel o tijera: ').lower()\n",
        "\n",
        "    if jugador not in opciones:\n",
        "        print('Opción no válida')\n",
        "        continue\n",
        "\n",
        "    computador = random.choice(opciones)\n",
        "    print(f'El compu eligió: {computador}')\n",
        "\n",
        "    if jugador == computador:\n",
        "        print('Empate')\n",
        "    elif (jugador == 'piedra' and computador == 'tijera') or \\\n",
        "         (jugador == 'papel' and computador == 'piedra') or \\\n",
        "         (jugador == 'tijera' and computador == 'papel'):\n",
        "        print('¡Ganaste!')\n",
        "    else:\n",
        "        print('Perdiste')\n",
        "\n",
        "    continuar = input('¿Quieres seguir jugando? (si/no): ').lower()\n",
        "    if continuar != 'si':\n",
        "        print('¡Gracias por jugar!')\n",
        "        break\n",
        ""
      ],
      "metadata": {
        "colab": {
          "base_uri": "https://localhost:8080/"
        },
        "id": "N9AGgJKU4yfq",
        "outputId": "cb9234db-4120-4ba8-d780-dac4c758fdeb"
      },
      "execution_count": 3,
      "outputs": [
        {
          "output_type": "stream",
          "name": "stdout",
          "text": [
            "Bienvenidos al cachipún chemimairee uyuyuuuuii\n",
            "Elige piedra, papel o tijera: papel\n",
            "El compu eligió: papel\n",
            "Empate\n",
            "¿Quieres seguir jugando? (si/no): si\n",
            "Elige piedra, papel o tijera: papel\n",
            "El compu eligió: tijera\n",
            "Perdiste\n",
            "¿Quieres seguir jugando? (si/no): si\n",
            "Elige piedra, papel o tijera: papel\n",
            "El compu eligió: tijera\n",
            "Perdiste\n",
            "¿Quieres seguir jugando? (si/no): si\n",
            "Elige piedra, papel o tijera: paple\n",
            "Opción no válida\n",
            "Elige piedra, papel o tijera: papel\n",
            "El compu eligió: tijera\n",
            "Perdiste\n",
            "¿Quieres seguir jugando? (si/no): piedra\n",
            "¡Gracias por jugar!\n"
          ]
        }
      ]
    }
  ]
}