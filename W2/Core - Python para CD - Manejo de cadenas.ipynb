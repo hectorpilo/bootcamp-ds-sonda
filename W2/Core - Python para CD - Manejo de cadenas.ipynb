{
  "nbformat": 4,
  "nbformat_minor": 0,
  "metadata": {
    "colab": {
      "provenance": [],
      "authorship_tag": "ABX9TyPR2DNUzAcTugoi0hX3lv9N",
      "include_colab_link": true
    },
    "kernelspec": {
      "name": "python3",
      "display_name": "Python 3"
    },
    "language_info": {
      "name": "python"
    }
  },
  "cells": [
    {
      "cell_type": "markdown",
      "metadata": {
        "id": "view-in-github",
        "colab_type": "text"
      },
      "source": [
        "<a href=\"https://colab.research.google.com/github/hectorpilo/bootcamp-ds-sonda/blob/main/Core.ipynb\" target=\"_parent\"><img src=\"https://colab.research.google.com/assets/colab-badge.svg\" alt=\"Open In Colab\"/></a>"
      ]
    },
    {
      "cell_type": "markdown",
      "source": [
        "## **Ejercicio 1: Saludo personalizado**"
      ],
      "metadata": {
        "id": "0c9plVbuHiUU"
      }
    },
    {
      "cell_type": "code",
      "source": [
        "#Crea un programa que pida al usuario su nombre y edad, y luego imprima un saludo personalizado\n",
        "nombre = input('Escribe tu nombre en el recuadro: ')\n",
        "edad = int(input('Escribe tu edad: '))\n",
        "print(f'bienvenido(a) don(doña) {nombre}, que bueno saber que tienes {edad} años')"
      ],
      "metadata": {
        "id": "dF5LM2cFHrjO"
      },
      "execution_count": null,
      "outputs": []
    },
    {
      "cell_type": "markdown",
      "source": [
        "## **Ejercicio 2: Manipulación de cadenas**"
      ],
      "metadata": {
        "id": "QNrdYcyOHomH"
      }
    },
    {
      "cell_type": "code",
      "source": [
        "#Crea una cadena con tu nombre completo\n",
        "nombre_completo = 'Hector Enrique Acevedo Astudillo'\n",
        "#convierte el nombre a mayusculas.\n",
        "nombre_mayusculas = nombre_completo.upper()\n",
        "nombre_minusculas = nombre_completo.lower()\n",
        "nombre_nuevo = nombre_completo.replace('Hector','Axel',1)\n",
        "print(f'tu nombre en mayusculas queda así {nombre_mayusculas} y en minusuculas queda así {nombre_minusculas} y si te cambio el nombre se vería así {nombre_nuevo}')\n"
      ],
      "metadata": {
        "colab": {
          "base_uri": "https://localhost:8080/"
        },
        "id": "p5DK6mfMH79U",
        "outputId": "d66b9f3c-df22-4f75-9c56-b4d2dd2d7f98"
      },
      "execution_count": 9,
      "outputs": [
        {
          "output_type": "stream",
          "name": "stdout",
          "text": [
            "tu nombre en mayusculas queda así HECTOR ENRIQUE ACEVEDO ASTUDILLO y en minusuculas queda así hector enrique acevedo astudillo y si te cambio el nombre se vería así Axel Enrique Acevedo Astudillo\n"
          ]
        }
      ]
    },
    {
      "cell_type": "markdown",
      "source": [
        "## **Ejercicio 3: Lista de nombres**"
      ],
      "metadata": {
        "id": "aw05rIkfL6Sn"
      }
    },
    {
      "cell_type": "code",
      "source": [
        "#ingresa una lista de nombres\n",
        "nombres = input('Ingresa una lista de nombres: ')\n",
        "#los vamos a separar usando split, observa:\n",
        "separa2 = nombres.split(',')\n",
        "print(separa2)\n",
        "print('nombres ingresados son:')\n",
        "for nombre in separa2:\n",
        "  print(nombre.strip())"
      ],
      "metadata": {
        "colab": {
          "base_uri": "https://localhost:8080/"
        },
        "id": "npLz_qYGMbVu",
        "outputId": "e24460a4-0af0-41f1-858b-34b1681c79ef"
      },
      "execution_count": 18,
      "outputs": [
        {
          "output_type": "stream",
          "name": "stdout",
          "text": [
            "Ingresa una lista de nombres: hector,makarena,francisca,josefa,isidora\n",
            "['hector', 'makarena', 'francisca', 'josefa', 'isidora']\n",
            "nombres ingresados son:\n",
            "hector\n",
            "makarena\n",
            "francisca\n",
            "josefa\n",
            "isidora\n"
          ]
        }
      ]
    }
  ]
}