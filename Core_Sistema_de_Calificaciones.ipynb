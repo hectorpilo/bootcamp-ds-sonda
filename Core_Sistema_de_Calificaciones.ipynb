{
  "nbformat": 4,
  "nbformat_minor": 0,
  "metadata": {
    "colab": {
      "provenance": [],
      "authorship_tag": "ABX9TyN/wlapsiwC0y8bAV47ld7l",
      "include_colab_link": true
    },
    "kernelspec": {
      "name": "python3",
      "display_name": "Python 3"
    },
    "language_info": {
      "name": "python"
    }
  },
  "cells": [
    {
      "cell_type": "markdown",
      "metadata": {
        "id": "view-in-github",
        "colab_type": "text"
      },
      "source": [
        "<a href=\"https://colab.research.google.com/github/hectorpilo/bootcamp-ds-sonda/blob/main/Core_Sistema_de_Calificaciones.ipynb\" target=\"_parent\"><img src=\"https://colab.research.google.com/assets/colab-badge.svg\" alt=\"Open In Colab\"/></a>"
      ]
    },
    {
      "cell_type": "markdown",
      "source": [
        "**Sistema de calificaciones**\n",
        "\n",
        "Evaluar las capacidades de los estudiantes en el uso de operaciones matemáticas básicas, booleanos y condicionales en Python, así como su capacidad para analizar problemas, comprender requerimientos y desarrollar lógica de programación."
      ],
      "metadata": {
        "id": "nzNz4hu8T--x"
      }
    },
    {
      "cell_type": "code",
      "source": [
        "def obtener_numero_estudiantes():  # Pide al usuario el número de estudiantes y devuelve el valor\n",
        "    while True:\n",
        "        try:\n",
        "            num_estudiantes = int(input(\"Ingrese el número de estudiantes: \")) #pide una entrada y la transforma en entero.\n",
        "            if num_estudiantes < 0:  #regla para que el numero no sea negativo.\n",
        "                print(\"El número de estudiantes no puede ser negativo. Inténtelo de nuevo.\")\n",
        "                continue\n",
        "            return num_estudiantes #si todo está bien retorna el numero.\n",
        "        except ValueError: #Si alguien escribe, cinco, en vez de 5. Mostrará el error.\n",
        "            print(\"Entrada inválida. Por favor, ingrese un número entero.\")\n",
        "\n",
        "def obtener_nombre_estudiante():  # Pide al usuario el nombre del estudiante y devuelve el valor\n",
        "    while True:\n",
        "        nombre = input(\"Ingrese el nombre del estudiante: \").strip() #elimina vacios al inicio y al final.\n",
        "        if nombre:\n",
        "            return nombre\n",
        "        else:\n",
        "            print(\"El nombre del estudiante no puede estar vacío. Inténtelo de nuevo.\")\n",
        "\n",
        "def obtener_numero_asignaturas():  # Pide al usuario el número de asignaturas y devuelve el valor\n",
        "    while True:\n",
        "        try:\n",
        "            num_asignaturas = int(input(\"Ingrese el número de asignaturas para este estudiante: \"))\n",
        "            if num_asignaturas < 0: #no puede ser menor a 0.\n",
        "                print(\"El número de asignaturas no puede ser negativo. Inténtelo de nuevo.\")\n",
        "                continue #si el numero ingresado es menor a 0, mostrará el mensaje de error.\n",
        "            return num_asignaturas #El valor deeste retorno se usará para asignar un numero a cada asignatura en un rango que estará en un bucle.\n",
        "        except ValueError: #no puede ingrar otro valor que no sea un numero.\n",
        "            print(\"Entrada inválida. Por favor, ingrese un número entero.\")\n",
        "\n",
        "def obtener_calificaciones(num_asignaturas):   # Pide al usuario las calificaciones para cada asignatura y las devuelve en una lista\n",
        "    calificaciones = [] #creacion de lista vacia para calificaciones.\n",
        "    for i in range(num_asignaturas): #rango para asignar numero a cada asignatura.\n",
        "        nombre_asignatura = input(f\"Ingrese el nombre de la asignatura {i+1}: \").strip() #solicitud del nombre de la asignatura y elimina espacios en inicio y fin.\n",
        "        while True:\n",
        "            try:\n",
        "                calificacion = float(input(f\"Ingrese la calificación para {nombre_asignatura} (0-10): \")) #solicita ingresar la calificación en un rango de 0 a 10.\n",
        "                if 0 <= calificacion <= 10: #si la calificación está en el rango, pasa a la siguiente linea.\n",
        "                    calificaciones.append(calificacion) #se guarda en lista calificaciones el valor de la califcacion entregada.\n",
        "                    break\n",
        "                else: #si no se cumple lo anterior, muestra un mensaje.\n",
        "                    print(\"Calificación fuera del rango (0-10). Inténtelo de nuevo.\")\n",
        "            except ValueError: #manejo de error por una entrada incorrecta.\n",
        "                print(\"Entrada inválida. Por favor, ingrese un valor numérico para la calificación.\")\n",
        "    return calificaciones #devuelve a calificaciones\n",
        "\n",
        "def calcular_promedio(calificaciones):  # Calcula y devuelve el promedio de las calificaciones\n",
        "    if not calificaciones: #si la lista esta vacia\n",
        "        return 0.0 #devolverá 0.0 para evitar errores por division por 0 despues.\n",
        "    return sum(calificaciones) / len(calificaciones) #suma todos los valores de la lista y los divide por cuantas notas hay.\n",
        "\n",
        "def determinar_estado(promedio):     # Determina si el estudiante ha aprobado o reprobado basándose en el promedio\n",
        "    return \"Aprobado\" if promedio >= 6.0 else \"Reprobado\" #operador ternario, dos posibilidades en una sola linea.\n",
        "\n",
        "def imprimir_resumen(estudiantes):     # Imprime un resumen con el nombre de los estudiantes, su promedio y su estado\n",
        "    print(\"\\n--- Resumen de Calificaciones ---\") #salto de linea y titulo decorativo con ¨-¨\n",
        "    if not estudiantes: #revisa si la lista está vacia\n",
        "        print(\"No se ingresaron datos de estudiantes.\") #si está vacia, muestra el mensaje\n",
        "        return #termina la funcion.\n",
        "    for estudiante in estudiantes: #recorre la lista estudianes, cada uno tiene su key y su value.\n",
        "        print(f\"Nombre: {estudiante['nombre']}, Promedio: {estudiante['promedio']:.2f}, Estado: {estudiante['estado']}\") #muestra información del estudiante.\n",
        "    print(\"---------------------------------\") # fin decorativo.\n",
        "\n",
        "num_estudiantes = obtener_numero_estudiantes() #guarda en una variable la cantidad de estudiantes que se ingresan al sistema.\n",
        "estudiantes = [] #lista vacia para guardar los datos de cada estudiante\n",
        "\n",
        "for _ in range(num_estudiantes): #comienza un ciclo que como rango, usará la cantidad de estudiantes.\n",
        "    nombre = obtener_nombre_estudiante() #asigna a la variable el nombre obtenido.\n",
        "    num_asignaturas = obtener_numero_asignaturas() #asigna a la variable el numero de asignaturas obtenidos.\n",
        "    calificaciones = obtener_calificaciones(num_asignaturas) #guarda en la variable la cantidad de calificaciones obtenidas.\n",
        "    promedio = calcular_promedio(calificaciones) #obtiene el valor del calculo del promedio.\n",
        "    estado = determinar_estado(promedio) #guarda el estadod el estudiante.\n",
        "\n",
        "    estudiantes.append({\n",
        "        'nombre': nombre,\n",
        "        'promedio': promedio,\n",
        "        'estado': estado\n",
        "    })  #almacena en la lista los resultados de los calculos de las funciones.\n",
        "\n",
        "imprimir_resumen(estudiantes) #imprime el resultado de los estudiantes.\n"
      ],
      "metadata": {
        "id": "IC4esHNYUK7T"
      },
      "execution_count": null,
      "outputs": []
    }
  ]
}