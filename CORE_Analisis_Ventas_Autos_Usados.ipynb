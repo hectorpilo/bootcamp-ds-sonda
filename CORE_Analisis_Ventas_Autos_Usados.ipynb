{
  "nbformat": 4,
  "nbformat_minor": 0,
  "metadata": {
    "colab": {
      "provenance": [],
      "authorship_tag": "ABX9TyNz01w1KOWpAD61YFlUCMjO",
      "include_colab_link": true
    },
    "kernelspec": {
      "name": "python3",
      "display_name": "Python 3"
    },
    "language_info": {
      "name": "python"
    }
  },
  "cells": [
    {
      "cell_type": "markdown",
      "metadata": {
        "id": "view-in-github",
        "colab_type": "text"
      },
      "source": [
        "<a href=\"https://colab.research.google.com/github/hectorpilo/bootcamp-ds-sonda/blob/main/CORE_Analisis_Ventas_Autos_Usados.ipynb\" target=\"_parent\"><img src=\"https://colab.research.google.com/assets/colab-badge.svg\" alt=\"Open In Colab\"/></a>"
      ]
    },
    {
      "cell_type": "markdown",
      "source": [
        "# **Prediccion de Predio de Venta de Autos Usados**\n",
        "* El presente notebook, muestra el proceso de analisis de un dataset de autos usados. Información de vehiculos que fue recolectada por varios usarios y dispuestas en Kaggle para su analisis.\n",
        "* Eliminé varias columnas que no me servirian para el entrenamiento, como el numero de vin, urls, entre otras.\n",
        "* Realicé analisis visuales univariados y multivariados.\n",
        "* hice entrenamientos con outliers y sin outliers.\n",
        "* Realicé una funcion que solicita al usuario un input de año, kilometraje, marca, tipo de combustible, condicion de uso y tipo de carroceria para poder predecir ambos modelos. Con Outliers y sin Outliers."
      ],
      "metadata": {
        "id": "xyiVWGbkvHeA"
      }
    },
    {
      "cell_type": "code",
      "execution_count": null,
      "metadata": {
        "id": "yIZ-zLfW1Lqp"
      },
      "outputs": [],
      "source": [
        "from google.colab import drive\n",
        "drive.mount('/content/drive')\n",
        "path = \"/content/drive/MyDrive/BBDD/vehicles_sample.csv\"\n",
        "import pandas as pd\n",
        "df = pd.read_csv(path)"
      ]
    },
    {
      "cell_type": "code",
      "source": [
        "df.tail(10)"
      ],
      "metadata": {
        "id": "1aF6RsLnLotN"
      },
      "execution_count": null,
      "outputs": []
    },
    {
      "cell_type": "code",
      "source": [
        "df.columns = df.columns.str.lower().str.replace(' ', '', regex=False) #eliminar mayusculas, espacios vacios y busca los espacios ' ' y los reemplaza por ''"
      ],
      "metadata": {
        "id": "LTkzdzZPLqWZ"
      },
      "execution_count": null,
      "outputs": []
    },
    {
      "cell_type": "code",
      "source": [
        "df.info()"
      ],
      "metadata": {
        "id": "zJD1Eb2JLr7c"
      },
      "execution_count": null,
      "outputs": []
    },
    {
      "cell_type": "markdown",
      "source": [
        "# **Comentarios del Cientifico**\n",
        "Hay varias columnas que no me sirven para la predicción. Entendiendo el contexto, busco realizar un modelo que pueda predecir el valor de venta de un vehiculo. Si bien, podria tener relevancia el lugar donde se vende, omitiré esas variables y haré un modelo \"general\"."
      ],
      "metadata": {
        "id": "hPFiTBn5MOl6"
      }
    },
    {
      "cell_type": "code",
      "source": [
        "# Lista original de columnas a eliminar\n",
        "cols_to_drop = [\n",
        "    'id', 'url', 'region', 'region_url',\n",
        "    'vin', 'size', 'image_url', 'description',\n",
        "    'county', 'long', 'posting_date', 'lat'\n",
        "]\n",
        "\n",
        "# Filtramos solo las columnas que realmente están en el DataFrame\n",
        "cols_presentes = [col for col in cols_to_drop if col in df.columns]\n",
        "\n",
        "# Eliminamos solo esas\n",
        "df = df.drop(columns=cols_presentes)\n",
        "\n",
        "# Verificamos\n",
        "print(df.head())"
      ],
      "metadata": {
        "id": "1D0TNMo5MqLs"
      },
      "execution_count": null,
      "outputs": []
    },
    {
      "cell_type": "code",
      "source": [
        "df.info()"
      ],
      "metadata": {
        "id": "Qd7pLenkM2G7"
      },
      "execution_count": null,
      "outputs": []
    },
    {
      "cell_type": "code",
      "source": [
        "df_limpio = df.dropna()"
      ],
      "metadata": {
        "id": "A-bV_XYlM2-V"
      },
      "execution_count": null,
      "outputs": []
    },
    {
      "cell_type": "code",
      "source": [
        "df_limpio.info()"
      ],
      "metadata": {
        "id": "M-Ies2m7NqJb"
      },
      "execution_count": null,
      "outputs": []
    },
    {
      "cell_type": "code",
      "source": [
        "def resumen_valores_unicos(df_limpio):   #cree una funcion para ver los valores unicos.\n",
        "    for col in df_limpio.columns:\n",
        "        print(f\"Columna: {col}\")\n",
        "        print(f\" - Tipo de dato: {df_limpio[col].dtype}\")\n",
        "        print(f\" - Nº de valores únicos: {df_limpio[col].nunique()}\")\n",
        "\n",
        "        # Obtener y ordenar los valores únicos\n",
        "        valores_ordenados = sorted(df_limpio[col].dropna().unique())\n",
        "\n",
        "        # Mostrar hasta los primeros 10 valores únicos\n",
        "        print(f\" - Valores únicos (primeros 10): {valores_ordenados[:10]}\")\n",
        "        print(\"-\" * 50)\n"
      ],
      "metadata": {
        "id": "I6z2wx9bNrr_"
      },
      "execution_count": null,
      "outputs": []
    },
    {
      "cell_type": "code",
      "source": [
        "resumen_valores_unicos(df_limpio)"
      ],
      "metadata": {
        "id": "2dKsvQKGOeyI"
      },
      "execution_count": null,
      "outputs": []
    },
    {
      "cell_type": "code",
      "source": [
        "df.to_csv(\"/content/drive/MyDrive/BBDD/vehicles_sample_limpio.csv\", index=False)  #con esta ruta guardo el CSV. Por si ocurre algo."
      ],
      "metadata": {
        "id": "ahcHI1iePHM-"
      },
      "execution_count": null,
      "outputs": []
    },
    {
      "cell_type": "code",
      "source": [
        "df_limpio.info()"
      ],
      "metadata": {
        "id": "Wkiv7bzER3BQ"
      },
      "execution_count": null,
      "outputs": []
    },
    {
      "cell_type": "code",
      "source": [
        "df_limpio = df_limpio.drop_duplicates() #eliminamos duplicados."
      ],
      "metadata": {
        "id": "626oqW8fR4Pe"
      },
      "execution_count": null,
      "outputs": []
    },
    {
      "cell_type": "code",
      "source": [
        "print(f\"Número de filas después de eliminar duplicados: {df_limpio.shape[0]}\")"
      ],
      "metadata": {
        "id": "2wBmMxTUTRx8"
      },
      "execution_count": null,
      "outputs": []
    },
    {
      "cell_type": "code",
      "source": [
        "print(df_limpio['fuel'].unique())\n",
        "print(df_limpio['condition'].unique())"
      ],
      "metadata": {
        "id": "If34yW9mTYYF"
      },
      "execution_count": null,
      "outputs": []
    },
    {
      "cell_type": "code",
      "source": [
        "from sklearn.preprocessing import MinMaxScaler #escalar caracteristicas numericas\n",
        "\n",
        "escalador = MinMaxScaler()\n",
        "columnas_numericas = ['price', 'year', 'odometer']\n",
        "\n",
        "df_limpio[columnas_numericas] = escalador.fit_transform(df_limpio[columnas_numericas])"
      ],
      "metadata": {
        "id": "RgSL_49pTd_S"
      },
      "execution_count": null,
      "outputs": []
    },
    {
      "cell_type": "markdown",
      "source": [
        "# **Visualizaciones UNIVARIADAS**\n",
        "\n",
        "A continuación realizaré analisis visual con sus respectivos comentarios antes de eliminar cualquier tipo de outliers. Guardaré el df, y procesaré otro para guardar sin outliers y realizaré comparaciones de como afecta el modelaje el que no se eliminen los outliers de la data."
      ],
      "metadata": {
        "id": "RrAwWBmzT6Ys"
      }
    },
    {
      "cell_type": "code",
      "source": [
        "import matplotlib.pyplot as plt\n",
        "import seaborn as sns\n",
        "\n",
        "# Distribución del precio\n",
        "sns.histplot(df_limpio['price'], kde=True, bins=30)\n",
        "plt.title('Distribución del Precio')\n",
        "plt.xlabel('Precio')\n",
        "plt.ylabel('Frecuencia')\n",
        "plt.show()\n"
      ],
      "metadata": {
        "id": "ZahE3MZGT98E"
      },
      "execution_count": null,
      "outputs": []
    },
    {
      "cell_type": "markdown",
      "source": [
        "**Comentarios del Cientifico:**\n",
        "* La mayoria de los precios de los autos se concentran hasta $30.000 aprox. Esto indica que la mayoria de los autos del dataset son de gama baja o media. Validando con información que encontré internet, craiglist se caracteriza por realizar ventas de este tipo. Para ese sector."
      ],
      "metadata": {
        "id": "XdRWzlceYuAy"
      }
    },
    {
      "cell_type": "code",
      "source": [
        "# Configurar el tamaño del gráfico\n",
        "plt.figure(figsize=(10, 4))\n",
        "\n",
        "# Crear el boxplot\n",
        "sns.boxplot(x=df_limpio['price'], color='orange')\n",
        "\n",
        "# Añadir título y etiquetas\n",
        "plt.title('Boxplot del Precio')\n",
        "plt.xlabel('Precio')\n",
        "\n",
        "# Mostrar el gráfico\n",
        "plt.show()"
      ],
      "metadata": {
        "id": "iogVflwyYCW_"
      },
      "execution_count": null,
      "outputs": []
    },
    {
      "cell_type": "markdown",
      "source": [
        "**Comentarios del Cientifico:**\n",
        "* Se confirma que los precios de los autos están por debajo de los USD $30.000 dolares, sin embargo hay unos outliers, los que a mi criterio eliminaré del modelo."
      ],
      "metadata": {
        "id": "9HnGXjaiZe_s"
      }
    },
    {
      "cell_type": "code",
      "source": [
        "import matplotlib.pyplot as plt\n",
        "\n",
        "plt.figure(figsize=(10,5))\n",
        "plt.hist(df['year'], bins=30, edgecolor='black')\n",
        "plt.title('Distribución de autos por año de fabricación')\n",
        "plt.xlabel('Año')\n",
        "plt.ylabel('Cantidad de autos')\n",
        "plt.grid(True)\n",
        "plt.show()"
      ],
      "metadata": {
        "id": "jgnurqRWcjvF"
      },
      "execution_count": null,
      "outputs": []
    },
    {
      "cell_type": "markdown",
      "source": [
        "**Comentarios del Cientifico:**\n",
        "* Se observan que existen autos muy antiguos, pero se centra más en autos entre el 2005 y 2020."
      ],
      "metadata": {
        "id": "UBfRbOJ4cwXA"
      }
    },
    {
      "cell_type": "markdown",
      "source": [
        "# **Visualizaciones MultiVariadas.**"
      ],
      "metadata": {
        "id": "J8QstJ80YUGY"
      }
    },
    {
      "cell_type": "code",
      "source": [
        "plt.figure(figsize=(10, 6))\n",
        "sns.scatterplot(x='odometer', y='price', data=df_limpio)\n",
        "plt.title('Precio vs Kilometraje (Odometer)')\n",
        "plt.xlabel('Kilometraje')\n",
        "plt.ylabel('Precio')\n",
        "plt.show()\n"
      ],
      "metadata": {
        "id": "2WoBs3hVYXf8"
      },
      "execution_count": null,
      "outputs": []
    },
    {
      "cell_type": "markdown",
      "source": [
        "**Comentario del Cientifico:**\n",
        "* Como se observo en graficos univariados, hay precios de autos tipo outliers que se eliminarán. Y si, hay autos con muuuuuucho kilometraje, quizás hasta los regalan, por que craiglist tambien permutan cosas."
      ],
      "metadata": {
        "id": "koTbFBODZ45B"
      }
    },
    {
      "cell_type": "code",
      "source": [
        "plt.figure(figsize=(8, 5))\n",
        "sns.heatmap(df_limpio[['price', 'year', 'odometer']].corr(), annot=True, cmap='coolwarm')\n",
        "plt.title('Matriz de Correlación')\n",
        "plt.show()\n"
      ],
      "metadata": {
        "id": "6q7j8V5QYcGu"
      },
      "execution_count": null,
      "outputs": []
    },
    {
      "cell_type": "markdown",
      "source": [
        "**Comentario del Cientifico:**\n",
        "\n",
        "* Respecto a precio y año, hay una correlacion de 0.056, es una correlación positiva lo que afirma que autos nuevos tienden a tener un precio levemente más altos.\n",
        "* Correlacion de cantidad de kilometros y precio es algo negativa, lo que indica que a mayor kilometraje, el precio tiende a bajar.\n",
        "* La correlacion entre el precio y el año, tambien es negativa, lo que sugiere que los autos nuevos tienen menos kilemtraje. Ni modo comprar un auto nuevo con mucho kilometros."
      ],
      "metadata": {
        "id": "8s2GQSDRaxgH"
      }
    },
    {
      "cell_type": "markdown",
      "source": [
        "# **MODELADO CON OUTLIERS**"
      ],
      "metadata": {
        "id": "gymOx2DRf78_"
      }
    },
    {
      "cell_type": "code",
      "source": [
        "df_limpio = pd.get_dummies(df_limpio, drop_first=True) #transformacion de caracteristicas categoricas a numericas."
      ],
      "metadata": {
        "id": "XwmqMP5KTkA-"
      },
      "execution_count": null,
      "outputs": []
    },
    {
      "cell_type": "code",
      "source": [
        "df_limpio.info()"
      ],
      "metadata": {
        "id": "5E3IMhEZf_In"
      },
      "execution_count": null,
      "outputs": []
    },
    {
      "cell_type": "code",
      "source": [
        "X = df_limpio.drop('price', axis=1)\n",
        "y = df_limpio['price']"
      ],
      "metadata": {
        "id": "-6uW7VMFhHZl"
      },
      "execution_count": null,
      "outputs": []
    },
    {
      "cell_type": "code",
      "source": [
        "from sklearn.model_selection import train_test_split\n",
        "X_train, X_test, y_train, y_test = train_test_split(X, y, test_size=0.2, random_state=42)"
      ],
      "metadata": {
        "id": "OBZMKqizhK55"
      },
      "execution_count": null,
      "outputs": []
    },
    {
      "cell_type": "code",
      "source": [
        "# Importar modelos y métricas\n",
        "from sklearn.linear_model import LinearRegression\n",
        "from sklearn.ensemble import RandomForestRegressor\n",
        "from sklearn.metrics import mean_squared_error, r2_score\n",
        "import numpy as np\n",
        "\n",
        "# Modelo 1: Regresión Lineal\n",
        "lr = LinearRegression()\n",
        "lr.fit(X_train, y_train)\n",
        "y_pred_lr = lr.predict(X_test)\n",
        "\n",
        "# Modelo 2: Random Forest\n",
        "rf = RandomForestRegressor(random_state=42)\n",
        "rf.fit(X_train, y_train)\n",
        "y_pred_rf = rf.predict(X_test)\n",
        "\n",
        "# Función para evaluar modelos\n",
        "def evaluar_modelo(y_true, y_pred, nombre):\n",
        "    mse = mean_squared_error(y_true, y_pred)\n",
        "    rmse = np.sqrt(mse)\n",
        "    r2 = r2_score(y_true, y_pred)\n",
        "    print(f\"\\n📊 Evaluación de {nombre}:\")\n",
        "    print(f\"MSE:  {mse:.2f}\")\n",
        "    print(f\"RMSE: {rmse:.2f}\")\n",
        "    print(f\"R²:   {r2:.4f}\")\n",
        "\n",
        "# Evaluación de ambos modelos\n",
        "evaluar_modelo(y_test, y_pred_lr, \"Regresión Lineal\")\n",
        "evaluar_modelo(y_test, y_pred_rf, \"Random Forest Regressor\")\n"
      ],
      "metadata": {
        "id": "jOD4Quwni0bB"
      },
      "execution_count": null,
      "outputs": []
    },
    {
      "cell_type": "markdown",
      "source": [
        "# **Guardaremos Ambos Modelos**"
      ],
      "metadata": {
        "id": "zGbckTVHjn-o"
      }
    },
    {
      "cell_type": "code",
      "source": [
        "import joblib\n",
        "#guardamos los nombres de las columnas\n",
        "joblib.dump(X_train.columns, \"columnas_modelo.pkl\")\n",
        "\n",
        "# Guardar Regresión Lineal\n",
        "joblib.dump(lr, \"modelo_lineal.pkl\")\n",
        "\n",
        "# Guardar Random Forest\n",
        "joblib.dump(rf, \"modelo_random_forest.pkl\")\n"
      ],
      "metadata": {
        "id": "mvMtyRYHjs6H"
      },
      "execution_count": null,
      "outputs": []
    },
    {
      "cell_type": "markdown",
      "source": [
        "# **Haremos unas pruebas....**\n",
        "* utilizaré un auto año 2015, marca toyota, de gasolina, transmision automatica, en buenas condiciones y del tipo sedan."
      ],
      "metadata": {
        "id": "BhKyXdxNj8Td"
      }
    },
    {
      "cell_type": "markdown",
      "source": [
        "Veamos con RadomForest."
      ],
      "metadata": {
        "id": "BZyZ5lH3kVsb"
      }
    },
    {
      "cell_type": "code",
      "source": [
        "import pandas as pd\n",
        "import joblib\n",
        "\n",
        "# Cargar modelo entrenado y columnas originales\n",
        "modelo = joblib.load(\"modelo_random_forest.pkl\")\n",
        "columnas = joblib.load(\"columnas_modelo.pkl\")\n",
        "\n",
        "# Crear input del usuario (ejemplo)\n",
        "nuevo_auto = pd.DataFrame([{\n",
        "    'year': 2015,\n",
        "    'odometer': 80000,\n",
        "    'manufacturer_toyota': True,\n",
        "    'fuel_gasoline': True,\n",
        "    'transmission_automatic': True,\n",
        "    'condition_good': True,\n",
        "    'type_sedan': True,\n",
        "    # ... (todas las demás columnas dummy necesarias en False)\n",
        "}], columns=columnas).fillna(False)\n",
        "\n",
        "# Predecir\n",
        "prediccion = modelo.predict(nuevo_auto)\n",
        "\n",
        "# Mostrar resultado\n",
        "print(f\"💰 Precio estimado para el auto: ${prediccion[0]:,.2f}\")\n"
      ],
      "metadata": {
        "id": "mw4Clx53kRvx"
      },
      "execution_count": null,
      "outputs": []
    },
    {
      "cell_type": "markdown",
      "source": [
        "Ahora con el Modelo Lineal."
      ],
      "metadata": {
        "id": "A9mxqyg0kZgz"
      }
    },
    {
      "cell_type": "code",
      "source": [
        "import pandas as pd\n",
        "import joblib\n",
        "\n",
        "# Cargar modelo de regresión lineal y columnas originales\n",
        "modelo_lineal = joblib.load(\"modelo_lineal.pkl\")\n",
        "columnas = joblib.load(\"columnas_modelo.pkl\")\n",
        "\n",
        "# Crear el input del usuario (idéntico al usado con Random Forest)\n",
        "nuevo_auto = pd.DataFrame([{\n",
        "    'year': 2015,\n",
        "    'odometer': 80000,\n",
        "    'manufacturer_toyota': True,\n",
        "    'fuel_gasoline': True,\n",
        "    'transmission_automatic': True,\n",
        "    'condition_good': True,\n",
        "    'type_sedan': True,\n",
        "    # ... otras columnas dummy quedarán en False automáticamente\n",
        "}], columns=columnas).fillna(False)\n",
        "\n",
        "# Predecir con el modelo de regresión lineal\n",
        "prediccion_lineal = modelo_lineal.predict(nuevo_auto)\n",
        "\n",
        "# Mostrar resultado\n",
        "print(f\"📉 Precio estimado con Regresión Lineal: ${prediccion_lineal[0]:,.2f}\")\n"
      ],
      "metadata": {
        "id": "6rEgFzbpks6X"
      },
      "execution_count": null,
      "outputs": []
    },
    {
      "cell_type": "code",
      "source": [
        "import pandas as pd\n",
        "import joblib\n",
        "\n",
        "def predecir_precios_vehiculos():\n",
        "    # Cargar modelos y columnas\n",
        "    columnas = joblib.load(\"columnas_modelo.pkl\")\n",
        "    modelo_lineal = joblib.load(\"modelo_lineal.pkl\")\n",
        "    modelo_rf = joblib.load(\"modelo_random_forest.pkl\")\n",
        "\n",
        "    # Lista para almacenar resultados\n",
        "    historial = []\n",
        "\n",
        "    while True:\n",
        "        print(\"\\n🔧 INGRESO DE DATOS DEL VEHÍCULO\")\n",
        "\n",
        "        # Entradas numéricas\n",
        "        year = int(input(\"Año del vehículo: \"))\n",
        "        odometer = float(input(\"Kilometraje (odometer): \"))\n",
        "\n",
        "        # Diccionario base\n",
        "        entrada = {'year': year, 'odometer': odometer}\n",
        "\n",
        "        # Entradas categóricas (dummy)\n",
        "        opciones_true = [\n",
        "            input(\"Fabricante (ej: manufacturer_toyota): \"),\n",
        "            input(\"Tipo de combustible (ej: fuel_gasoline): \"),\n",
        "            input(\"Transmisión (ej: transmission_automatic): \"),\n",
        "            input(\"Condición (ej: condition_good): \"),\n",
        "            input(\"Tipo de auto (ej: type_sedan): \")\n",
        "        ]\n",
        "\n",
        "        for col in opciones_true:\n",
        "            if col in columnas:\n",
        "                entrada[col] = True  # Solo marcamos True si la columna existe\n",
        "\n",
        "        # Crear DataFrame para predecir\n",
        "        nuevo_auto = pd.DataFrame([entrada], columns=columnas).fillna(False)\n",
        "\n",
        "        # Predecir con ambos modelos\n",
        "        pred_lineal = modelo_lineal.predict(nuevo_auto)[0]\n",
        "        pred_rf = modelo_rf.predict(nuevo_auto)[0]\n",
        "\n",
        "        # Mostrar resultados\n",
        "        print(\"\\n📈 RESULTADOS DE PREDICCIÓN:\")\n",
        "        print(f\"🔹 Regresión Lineal:     ${pred_lineal:,.2f}\")\n",
        "        print(f\"🔹 Random Forest:        ${pred_rf:,.2f}\")\n",
        "\n",
        "        # Guardar en historial\n",
        "        entrada_resumen = entrada.copy()\n",
        "        entrada_resumen['Pred_LR'] = pred_lineal\n",
        "        entrada_resumen['Pred_RF'] = pred_rf\n",
        "        historial.append(entrada_resumen)\n",
        "\n",
        "        # ¿Desea hacer otra?\n",
        "        continuar = input(\"\\n¿Deseas hacer otra predicción? (s/n): \").lower()\n",
        "        if continuar != 's':\n",
        "            break\n",
        "\n",
        "    # Mostrar resumen\n",
        "    print(\"\\n📋 Historial de predicciones:\")\n",
        "    df_historial = pd.DataFrame(historial)\n",
        "    print(df_historial[['year', 'odometer', 'Pred_LR', 'Pred_RF'] + [col for col in df_historial.columns if col not in ['year', 'odometer', 'Pred_LR', 'Pred_RF']]].to_string(index=False))\n",
        "\n",
        "    # Opcional: guardar en archivo CSV\n",
        "    guardar = input(\"\\n¿Deseas guardar el historial en un archivo CSV? (s/n): \").lower()\n",
        "    if guardar == 's':\n",
        "        df_historial.to_csv(\"historial_predicciones_autos.csv\", index=False)\n",
        "        print(\"✅ Historial guardado como 'historial_predicciones_autos.csv'.\")\n",
        "\n",
        "# Ejecutar función\n",
        "predecir_precios_vehiculos()\n"
      ],
      "metadata": {
        "id": "wpX5jRh7lYSB"
      },
      "execution_count": null,
      "outputs": []
    },
    {
      "cell_type": "markdown",
      "source": [
        "# **Copia del DF y procesamiento de Outliers.**"
      ],
      "metadata": {
        "id": "SAc2VURPfaZe"
      }
    },
    {
      "cell_type": "code",
      "source": [
        "df_limpio2 = df_limpio.copy() #copia del DF"
      ],
      "metadata": {
        "id": "a8KLp7uUfgnM"
      },
      "execution_count": null,
      "outputs": []
    },
    {
      "cell_type": "code",
      "source": [
        "# Configurar el tamaño del gráfico\n",
        "plt.figure(figsize=(10, 4))\n",
        "\n",
        "# Crear el boxplot\n",
        "sns.boxplot(x=df_limpio2['price'], color='orange')\n",
        "\n",
        "# Añadir título y etiquetas\n",
        "plt.title('Boxplot del Precio')\n",
        "plt.xlabel('Precio')\n",
        "\n",
        "# Mostrar el gráfico\n",
        "plt.show()"
      ],
      "metadata": {
        "id": "WygY-0LJm1L0"
      },
      "execution_count": null,
      "outputs": []
    },
    {
      "cell_type": "code",
      "source": [
        "df_limpio2.info()"
      ],
      "metadata": {
        "id": "N0o2maE2njsO"
      },
      "execution_count": null,
      "outputs": []
    },
    {
      "cell_type": "code",
      "source": [
        "# Calcular cuartiles\n",
        "Q1 = df_limpio2['price'].quantile(0.25)\n",
        "Q3 = df_limpio2['price'].quantile(0.75)\n",
        "IQR = Q3 - Q1\n",
        "\n",
        "# Límites para detectar outliers\n",
        "limite_inferior = Q1 - 1.5 * IQR\n",
        "limite_superior = Q3 + 1.5 * IQR\n",
        "\n",
        "# Crear nuevo DataFrame sin outliers\n",
        "df_sin_outliers = df_limpio2[(df_limpio2['price'] >= limite_inferior) & (df_limpio2['price'] <= limite_superior)]\n",
        "\n",
        "# Mostrar resultados\n",
        "print(f\"Número de filas antes: {len(df_limpio2)}\")\n",
        "print(f\"Número de filas después de eliminar outliers: {len(df_sin_outliers)}\")\n"
      ],
      "metadata": {
        "id": "lheQ5QJgnlND"
      },
      "execution_count": null,
      "outputs": []
    },
    {
      "cell_type": "code",
      "source": [
        "# Configurar el tamaño del gráfico\n",
        "plt.figure(figsize=(10, 4))\n",
        "\n",
        "# Crear el boxplot\n",
        "sns.boxplot(x=df_sin_outliers['price'], color='orange')\n",
        "\n",
        "# Añadir título y etiquetas\n",
        "plt.title('Boxplot del Precio')\n",
        "plt.xlabel('Precio')\n",
        "\n",
        "# Mostrar el gráfico\n",
        "plt.show()"
      ],
      "metadata": {
        "id": "YPJpDmXEnzfE"
      },
      "execution_count": null,
      "outputs": []
    },
    {
      "cell_type": "markdown",
      "source": [
        "# **Seleccion de Features y Target, modelo sin Outliers.**"
      ],
      "metadata": {
        "id": "da8bflkCoUHL"
      }
    },
    {
      "cell_type": "code",
      "source": [
        "X2 = df_sin_outliers.drop(columns='price')\n",
        "y2 = df_sin_outliers['price']"
      ],
      "metadata": {
        "id": "uDJxanPvofEL"
      },
      "execution_count": null,
      "outputs": []
    },
    {
      "cell_type": "code",
      "source": [
        "from sklearn.model_selection import train_test_split\n",
        "\n",
        "X2_train, X2_test, y2_train, y2_test = train_test_split(X2, y2, test_size=0.2, random_state=42)"
      ],
      "metadata": {
        "id": "OyBWRAqeohHq"
      },
      "execution_count": null,
      "outputs": []
    },
    {
      "cell_type": "code",
      "source": [
        "from sklearn.linear_model import LinearRegression\n",
        "\n",
        "modelo_lr2 = LinearRegression()\n",
        "modelo_lr2.fit(X2_train, y2_train)"
      ],
      "metadata": {
        "id": "wagVpvlOpdfj"
      },
      "execution_count": null,
      "outputs": []
    },
    {
      "cell_type": "code",
      "source": [
        "from sklearn.ensemble import RandomForestRegressor\n",
        "\n",
        "modelo_rf2 = RandomForestRegressor(n_estimators=100, random_state=42)\n",
        "modelo_rf2.fit(X2_train, y2_train)"
      ],
      "metadata": {
        "id": "CDX6idoNptN_"
      },
      "execution_count": null,
      "outputs": []
    },
    {
      "cell_type": "code",
      "source": [
        "from sklearn.metrics import mean_absolute_error, mean_squared_error, r2_score\n",
        "import numpy as np\n",
        "\n",
        "def evaluar_modelo2(nombre, y_verdadero, y_predicho):\n",
        "    print(f\"\\n--- {nombre} ---\")\n",
        "    print(\"MAE:\", mean_absolute_error(y_verdadero, y_predicho))\n",
        "    print(\"RMSE:\", np.sqrt(mean_squared_error(y_verdadero, y_predicho)))\n",
        "    print(\"R2:\", r2_score(y_verdadero, y_predicho))\n",
        "\n",
        "# Predicciones\n",
        "y2_pred_lr = modelo_lr2.predict(X2_test)\n",
        "y2_pred_rf = modelo_rf2.predict(X2_test)\n",
        "\n",
        "# Evaluaciones\n",
        "evaluar_modelo2(\"Linear Regression 2\", y2_test, y2_pred_lr)\n",
        "evaluar_modelo2(\"Random Forest 2\", y2_test, y2_pred_rf)\n"
      ],
      "metadata": {
        "id": "kJNrx8QHp0zB"
      },
      "execution_count": null,
      "outputs": []
    },
    {
      "cell_type": "markdown",
      "source": [
        "# **Grafica Predicciones Vs Valores Reales**"
      ],
      "metadata": {
        "id": "hitZA1MCqMm2"
      }
    },
    {
      "cell_type": "code",
      "source": [
        "import matplotlib.pyplot as plt\n",
        "\n",
        "def graficar_predicciones(y_test, y_pred, titulo):\n",
        "    plt.figure(figsize=(8, 6))\n",
        "    plt.scatter(y_test, y_pred, alpha=0.3)\n",
        "    plt.plot([y_test.min(), y_test.max()], [y_test.min(), y_test.max()], '--r')\n",
        "    plt.xlabel('Precio Real')\n",
        "    plt.ylabel('Precio Predicho')\n",
        "    plt.title(titulo)\n",
        "    plt.grid(True)\n",
        "    plt.tight_layout()\n",
        "    plt.show()\n",
        "\n",
        "# Gráficos\n",
        "graficar_predicciones(y2_test, y2_pred_lr, 'Regresión Lineal 2: Precio Real vs Predicho')\n",
        "graficar_predicciones(y2_test, y2_pred_rf, 'Random Forest 2: Precio Real vs Predicho')\n"
      ],
      "metadata": {
        "id": "XpZAttaZqQuL"
      },
      "execution_count": null,
      "outputs": []
    },
    {
      "cell_type": "markdown",
      "source": [
        "**Guardamos el modelo sin outliers.**"
      ],
      "metadata": {
        "id": "HP6QHk-vqh_y"
      }
    },
    {
      "cell_type": "code",
      "source": [
        "import joblib\n",
        "\n",
        "# Guardar los modelos entrenados\n",
        "joblib.dump(modelo_lr2, 'modelo_lr2.pkl')\n",
        "joblib.dump(modelo_rf2, 'modelo_rf2.pkl')\n",
        "# Obtener columnas del modelo sin outliers\n",
        "columnas_modelo2 = X2.columns.tolist()\n",
        "# Guardar en un archivo .pkl\n",
        "joblib.dump(columnas_modelo2, \"columnas_modelo2.pkl\")"
      ],
      "metadata": {
        "id": "kAcBxT1iqfJ7"
      },
      "execution_count": null,
      "outputs": []
    },
    {
      "cell_type": "code",
      "source": [
        "import pandas as pd\n",
        "import joblib\n",
        "\n",
        "def predecir_precios_vehiculos2():\n",
        "    # Cargar modelos y columnas\n",
        "    columnas2 = joblib.load(\"columnas_modelo2.pkl\")\n",
        "    modelo_lineal2 = joblib.load(\"modelo_lr2.pkl\")\n",
        "    modelo_rf2 = joblib.load(\"modelo_rf2.pkl\")\n",
        "\n",
        "    # Lista para almacenar resultados\n",
        "    historial2 = []\n",
        "\n",
        "    while True:\n",
        "        print(\"\\n🔧 INGRESO DE DATOS DEL VEHÍCULO (Modelo sin outliers)\")\n",
        "\n",
        "        # Entradas numéricas\n",
        "        year = int(input(\"Año del vehículo: \"))\n",
        "        odometer = float(input(\"Kilometraje (odometer): \"))\n",
        "\n",
        "        # Diccionario base\n",
        "        entrada2 = {'year': year, 'odometer': odometer}\n",
        "\n",
        "        # Entradas categóricas (dummy)\n",
        "        opciones_true2 = [\n",
        "            input(\"Fabricante (ej: manufacturer_toyota): \"),\n",
        "            input(\"Tipo de combustible (ej: fuel_gasoline): \"),\n",
        "            input(\"Transmisión (ej: transmission_automatic): \"),\n",
        "            input(\"Condición (ej: condition_good): \"),\n",
        "            input(\"Tipo de auto (ej: type_sedan): \")\n",
        "        ]\n",
        "\n",
        "        for col in opciones_true2:\n",
        "            if col in columnas2:\n",
        "                entrada2[col] = True  # Solo marcamos True si la columna existe\n",
        "\n",
        "        # Crear DataFrame para predecir\n",
        "        nuevo_auto2 = pd.DataFrame([entrada2], columns=columnas2).fillna(False)\n",
        "\n",
        "        # Predecir con ambos modelos\n",
        "        pred_lineal2 = modelo_lineal2.predict(nuevo_auto2)[0]\n",
        "        pred_rf2 = modelo_rf2.predict(nuevo_auto2)[0]\n",
        "\n",
        "        # Mostrar resultados\n",
        "        print(\"\\n📈 RESULTADOS DE PREDICCIÓN (sin outliers):\")\n",
        "        print(f\"🔹 Regresión Lineal:     ${pred_lineal2:,.2f}\")\n",
        "        print(f\"🔹 Random Forest:        ${pred_rf2:,.2f}\")\n",
        "\n",
        "        # Guardar en historial\n",
        "        entrada_resumen2 = entrada2.copy()\n",
        "        entrada_resumen2['Pred_LR2'] = pred_lineal2\n",
        "        entrada_resumen2['Pred_RF2'] = pred_rf2\n",
        "        historial2.append(entrada_resumen2)\n",
        "\n",
        "        # ¿Desea hacer otra?\n",
        "        continuar2 = input(\"\\n¿Deseas hacer otra predicción? (s/n): \").lower()\n",
        "        if continuar2 != 's':\n",
        "            break\n",
        "\n",
        "    # Mostrar resumen\n",
        "    print(\"\\n📋 Historial de predicciones:\")\n",
        "    df_historial2 = pd.DataFrame(historial2)\n",
        "    print(df_historial2[['year', 'odometer', 'Pred_LR2', 'Pred_RF2'] +\n",
        "          [col for col in df_historial2.columns if col not in ['year', 'odometer', 'Pred_LR2', 'Pred_RF2']]].to_string(index=False))\n",
        "\n",
        "    # Opcional: guardar en archivo CSV\n",
        "    guardar2 = input(\"\\n¿Deseas guardar el historial en un archivo CSV? (s/n): \").lower()\n",
        "    if guardar2 == 's':\n",
        "        df_historial2.to_csv(\"historial_predicciones_autos2.csv\", index=False)\n",
        "        print(\"✅ Historial guardado como 'historial_predicciones_autos2.csv'.\")\n",
        "\n",
        "# Ejecutar función\n",
        "predecir_precios_vehiculos2()\n"
      ],
      "metadata": {
        "colab": {
          "base_uri": "https://localhost:8080/",
          "height": 706
        },
        "id": "XwtRTv_Nq2ia",
        "outputId": "76d9680a-8cba-4cc1-a7f1-37fa8b93288d"
      },
      "execution_count": 55,
      "outputs": [
        {
          "name": "stdout",
          "output_type": "stream",
          "text": [
            "\n",
            "🔧 INGRESO DE DATOS DEL VEHÍCULO (Modelo sin outliers)\n",
            "Año del vehículo: 2026\n",
            "Kilometraje (odometer): 0\n",
            "Fabricante (ej: manufacturer_toyota): manufacturer_nissan\n",
            "Tipo de combustible (ej: fuel_gasoline): fuel_hybrid\n",
            "Transmisión (ej: transmission_automatic): transmission_automatic\n",
            "Condición (ej: condition_good): condition_excelent\n",
            "Tipo de auto (ej: type_sedan): type_sedan\n"
          ]
        },
        {
          "output_type": "stream",
          "name": "stderr",
          "text": [
            "/tmp/ipython-input-55-2052203742.py:37: FutureWarning: Downcasting object dtype arrays on .fillna, .ffill, .bfill is deprecated and will change in a future version. Call result.infer_objects(copy=False) instead. To opt-in to the future behavior, set `pd.set_option('future.no_silent_downcasting', True)`\n",
            "  nuevo_auto2 = pd.DataFrame([entrada2], columns=columnas2).fillna(False)\n"
          ]
        },
        {
          "output_type": "stream",
          "name": "stdout",
          "text": [
            "\n",
            "📈 RESULTADOS DE PREDICCIÓN (sin outliers):\n",
            "🔹 Regresión Lineal:     $10,137.55\n",
            "🔹 Random Forest:        $18,371.11\n",
            "\n",
            "¿Deseas hacer otra predicción? (s/n): n\n",
            "\n",
            "📋 Historial de predicciones:\n",
            " year  odometer     Pred_LR2  Pred_RF2  manufacturer_nissan  fuel_hybrid  type_sedan\n",
            " 2026       0.0 10137.549532  18371.11                 True         True        True\n"
          ]
        },
        {
          "output_type": "error",
          "ename": "KeyboardInterrupt",
          "evalue": "Interrupted by user",
          "traceback": [
            "\u001b[0;31m---------------------------------------------------------------------------\u001b[0m",
            "\u001b[0;31mKeyboardInterrupt\u001b[0m                         Traceback (most recent call last)",
            "\u001b[0;32m/tmp/ipython-input-55-2052203742.py\u001b[0m in \u001b[0;36m<cell line: 0>\u001b[0;34m()\u001b[0m\n\u001b[1;32m     70\u001b[0m \u001b[0;34m\u001b[0m\u001b[0m\n\u001b[1;32m     71\u001b[0m \u001b[0;31m# Ejecutar función\u001b[0m\u001b[0;34m\u001b[0m\u001b[0;34m\u001b[0m\u001b[0m\n\u001b[0;32m---> 72\u001b[0;31m \u001b[0mpredecir_precios_vehiculos2\u001b[0m\u001b[0;34m(\u001b[0m\u001b[0;34m)\u001b[0m\u001b[0;34m\u001b[0m\u001b[0;34m\u001b[0m\u001b[0m\n\u001b[0m",
            "\u001b[0;32m/tmp/ipython-input-55-2052203742.py\u001b[0m in \u001b[0;36mpredecir_precios_vehiculos2\u001b[0;34m()\u001b[0m\n\u001b[1;32m     64\u001b[0m \u001b[0;34m\u001b[0m\u001b[0m\n\u001b[1;32m     65\u001b[0m     \u001b[0;31m# Opcional: guardar en archivo CSV\u001b[0m\u001b[0;34m\u001b[0m\u001b[0;34m\u001b[0m\u001b[0m\n\u001b[0;32m---> 66\u001b[0;31m     \u001b[0mguardar2\u001b[0m \u001b[0;34m=\u001b[0m \u001b[0minput\u001b[0m\u001b[0;34m(\u001b[0m\u001b[0;34m\"\\n¿Deseas guardar el historial en un archivo CSV? (s/n): \"\u001b[0m\u001b[0;34m)\u001b[0m\u001b[0;34m.\u001b[0m\u001b[0mlower\u001b[0m\u001b[0;34m(\u001b[0m\u001b[0;34m)\u001b[0m\u001b[0;34m\u001b[0m\u001b[0;34m\u001b[0m\u001b[0m\n\u001b[0m\u001b[1;32m     67\u001b[0m     \u001b[0;32mif\u001b[0m \u001b[0mguardar2\u001b[0m \u001b[0;34m==\u001b[0m \u001b[0;34m's'\u001b[0m\u001b[0;34m:\u001b[0m\u001b[0;34m\u001b[0m\u001b[0;34m\u001b[0m\u001b[0m\n\u001b[1;32m     68\u001b[0m         \u001b[0mdf_historial2\u001b[0m\u001b[0;34m.\u001b[0m\u001b[0mto_csv\u001b[0m\u001b[0;34m(\u001b[0m\u001b[0;34m\"historial_predicciones_autos2.csv\"\u001b[0m\u001b[0;34m,\u001b[0m \u001b[0mindex\u001b[0m\u001b[0;34m=\u001b[0m\u001b[0;32mFalse\u001b[0m\u001b[0;34m)\u001b[0m\u001b[0;34m\u001b[0m\u001b[0;34m\u001b[0m\u001b[0m\n",
            "\u001b[0;32m/usr/local/lib/python3.11/dist-packages/ipykernel/kernelbase.py\u001b[0m in \u001b[0;36mraw_input\u001b[0;34m(self, prompt)\u001b[0m\n\u001b[1;32m   1175\u001b[0m                 \u001b[0;34m\"raw_input was called, but this frontend does not support input requests.\"\u001b[0m\u001b[0;34m\u001b[0m\u001b[0;34m\u001b[0m\u001b[0m\n\u001b[1;32m   1176\u001b[0m             )\n\u001b[0;32m-> 1177\u001b[0;31m         return self._input_request(\n\u001b[0m\u001b[1;32m   1178\u001b[0m             \u001b[0mstr\u001b[0m\u001b[0;34m(\u001b[0m\u001b[0mprompt\u001b[0m\u001b[0;34m)\u001b[0m\u001b[0;34m,\u001b[0m\u001b[0;34m\u001b[0m\u001b[0;34m\u001b[0m\u001b[0m\n\u001b[1;32m   1179\u001b[0m             \u001b[0mself\u001b[0m\u001b[0;34m.\u001b[0m\u001b[0m_parent_ident\u001b[0m\u001b[0;34m[\u001b[0m\u001b[0;34m\"shell\"\u001b[0m\u001b[0;34m]\u001b[0m\u001b[0;34m,\u001b[0m\u001b[0;34m\u001b[0m\u001b[0;34m\u001b[0m\u001b[0m\n",
            "\u001b[0;32m/usr/local/lib/python3.11/dist-packages/ipykernel/kernelbase.py\u001b[0m in \u001b[0;36m_input_request\u001b[0;34m(self, prompt, ident, parent, password)\u001b[0m\n\u001b[1;32m   1217\u001b[0m             \u001b[0;32mexcept\u001b[0m \u001b[0mKeyboardInterrupt\u001b[0m\u001b[0;34m:\u001b[0m\u001b[0;34m\u001b[0m\u001b[0;34m\u001b[0m\u001b[0m\n\u001b[1;32m   1218\u001b[0m                 \u001b[0;31m# re-raise KeyboardInterrupt, to truncate traceback\u001b[0m\u001b[0;34m\u001b[0m\u001b[0;34m\u001b[0m\u001b[0m\n\u001b[0;32m-> 1219\u001b[0;31m                 \u001b[0;32mraise\u001b[0m \u001b[0mKeyboardInterrupt\u001b[0m\u001b[0;34m(\u001b[0m\u001b[0;34m\"Interrupted by user\"\u001b[0m\u001b[0;34m)\u001b[0m \u001b[0;32mfrom\u001b[0m \u001b[0;32mNone\u001b[0m\u001b[0;34m\u001b[0m\u001b[0;34m\u001b[0m\u001b[0m\n\u001b[0m\u001b[1;32m   1220\u001b[0m             \u001b[0;32mexcept\u001b[0m \u001b[0mException\u001b[0m\u001b[0;34m:\u001b[0m\u001b[0;34m\u001b[0m\u001b[0;34m\u001b[0m\u001b[0m\n\u001b[1;32m   1221\u001b[0m                 \u001b[0mself\u001b[0m\u001b[0;34m.\u001b[0m\u001b[0mlog\u001b[0m\u001b[0;34m.\u001b[0m\u001b[0mwarning\u001b[0m\u001b[0;34m(\u001b[0m\u001b[0;34m\"Invalid Message:\"\u001b[0m\u001b[0;34m,\u001b[0m \u001b[0mexc_info\u001b[0m\u001b[0;34m=\u001b[0m\u001b[0;32mTrue\u001b[0m\u001b[0;34m)\u001b[0m\u001b[0;34m\u001b[0m\u001b[0;34m\u001b[0m\u001b[0m\n",
            "\u001b[0;31mKeyboardInterrupt\u001b[0m: Interrupted by user"
          ]
        }
      ]
    },
    {
      "cell_type": "markdown",
      "source": [
        "# **CONCLUSION FINAL**"
      ],
      "metadata": {
        "id": "LR1Agk_mrMdE"
      }
    },
    {
      "cell_type": "markdown",
      "source": [
        "**1. Con outliers:**\n",
        "* Ambos modelos tuvieron bajo rendimiento.\n",
        "* El R² fue negativo en regresión lineal, lo que indica que el modelo era peor que simplemente predecir la media.\n",
        "* Random Forest apenas logró un R² de 0.03, sin poder explicar la varianza real.\n",
        "\n",
        "**2. Sin outliers:**\n",
        "* El rendimiento mejoró sustancialmente.\n",
        "* La regresión lineal subió a un R² de 0.22, lo que indica que ahora sí logra capturar cierta tendencia.\n",
        "* El modelo Random Forest pasó a un excelente R² de 0.6156, indicando un buen nivel de predicción.\n",
        "* También bajaron drásticamente los errores (MAE y RMSE), lo que mejora la confiabilidad de las predicciones."
      ],
      "metadata": {
        "id": "wSUJ8QRnrqv1"
      }
    },
    {
      "cell_type": "markdown",
      "source": [],
      "metadata": {
        "id": "slJYjDnRrRJG"
      }
    }
  ]
}